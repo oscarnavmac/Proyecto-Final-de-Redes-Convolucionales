{
  "nbformat": 4,
  "nbformat_minor": 0,
  "metadata": {
    "colab": {
      "provenance": [],
      "gpuType": "L4",
      "authorship_tag": "ABX9TyMoGcJjCiQiu4C3uxmKznsk",
      "include_colab_link": true
    },
    "kernelspec": {
      "name": "python3",
      "display_name": "Python 3"
    },
    "language_info": {
      "name": "python"
    },
    "accelerator": "GPU"
  },
  "cells": [
    {
      "cell_type": "markdown",
      "metadata": {
        "id": "view-in-github",
        "colab_type": "text"
      },
      "source": [
        "<a href=\"https://colab.research.google.com/github/oscarnavmac/Proyecto-Final-de-Redes-Convolucionales/blob/main/CNN_for_CIFAR_10.ipynb\" target=\"_parent\"><img src=\"https://colab.research.google.com/assets/colab-badge.svg\" alt=\"Open In Colab\"/></a>"
      ]
    },
    {
      "cell_type": "code",
      "execution_count": 1,
      "metadata": {
        "id": "JVUdeNkUN-xI"
      },
      "outputs": [],
      "source": [
        "import torch\n",
        "import torch.nn as nn\n",
        "import torch.nn.functional as F\n",
        "import torchvision\n",
        "import torchvision.transforms as transforms\n",
        "import matplotlib.pyplot as plt\n",
        "import numpy as np"
      ]
    },
    {
      "cell_type": "code",
      "source": [
        "device = torch.device('cuda' if torch.cuda.is_available() else 'cpu')"
      ],
      "metadata": {
        "id": "XoAMhuHj_rjn"
      },
      "execution_count": 2,
      "outputs": []
    },
    {
      "cell_type": "code",
      "source": [
        "num_epochs = 10\n",
        "batch_size = 4\n",
        "learning_rate = 0.001"
      ],
      "metadata": {
        "id": "t42WSEkEAOny"
      },
      "execution_count": 3,
      "outputs": []
    },
    {
      "cell_type": "code",
      "source": [
        "# this dataset has PILImage images of range [0,1].\n",
        "# We transform them to Tensors of normalized range [-1, 1]\n",
        "\n",
        "transform = transforms.Compose(\n",
        "    [transforms.ToTensor(),\n",
        "     transforms.Normalize((0.5, 0.5, 0.5), (0.5, 0.5, 0.5))])\n",
        "\n",
        "train_dataset = torchvision.datasets.CIFAR10(root='./data', train=True,\n",
        "                                            download=True, transform=transform)\n",
        "\n",
        "test_dataset = torchvision.datasets.CIFAR10(root='./data', train=False,\n",
        "                                            download=True, transform=transform)\n",
        "\n",
        "train_loader = torch.utils.data.DataLoader(train_dataset, batch_size=batch_size,\n",
        "                                           shuffle=True)\n",
        "\n",
        "test_loader = torch.utils.data.DataLoader(test_dataset, batch_size=batch_size,\n",
        "                                           shuffle=False)\n",
        "\n",
        "# Hard-coded classes\n",
        "classes = ('plane', 'car', 'bird', 'cat', 'deer', 'dog', 'frog', 'horse', 'ship', 'truck')"
      ],
      "metadata": {
        "colab": {
          "base_uri": "https://localhost:8080/"
        },
        "collapsed": true,
        "id": "8HzMOHWXAWB0",
        "outputId": "16e40d7e-d2f6-4e48-bb91-15efa45330fa"
      },
      "execution_count": 4,
      "outputs": [
        {
          "output_type": "stream",
          "name": "stdout",
          "text": [
            "Downloading https://www.cs.toronto.edu/~kriz/cifar-10-python.tar.gz to ./data/cifar-10-python.tar.gz\n"
          ]
        },
        {
          "output_type": "stream",
          "name": "stderr",
          "text": [
            "100%|██████████| 170498071/170498071 [00:03<00:00, 43598418.04it/s]\n"
          ]
        },
        {
          "output_type": "stream",
          "name": "stdout",
          "text": [
            "Extracting ./data/cifar-10-python.tar.gz to ./data\n",
            "Files already downloaded and verified\n"
          ]
        }
      ]
    },
    {
      "cell_type": "code",
      "source": [
        "def imshow(img):\n",
        "    img = img / 2 + 0.5 # unnormalize\n",
        "    npimg = img.numpy()\n",
        "    plt.imshow(np.transpose(npimg, (1, 2, 0)))\n",
        "    plt.show()\n",
        "\n",
        "dataiter = iter(train_loader)\n",
        "images, labels =  next(dataiter)\n",
        "\n",
        "imshow(torchvision.utils.make_grid(images))"
      ],
      "metadata": {
        "colab": {
          "base_uri": "https://localhost:8080/",
          "height": 193
        },
        "id": "je47QD-jhM3J",
        "outputId": "1a251636-4342-4308-9fc7-03080ccfc64c"
      },
      "execution_count": 5,
      "outputs": [
        {
          "output_type": "display_data",
          "data": {
            "text/plain": [
              "<Figure size 640x480 with 1 Axes>"
            ],
            "image/png": "[encoded data removed]"
          },
          "metadata": {}
        }
      ]
    },
    {
      "cell_type": "code",
      "source": [
        "class ConvNet(nn.Module):\n",
        "    def __init__(self):\n",
        "        super(ConvNet, self).__init__()\n",
        "        self.conv1 = nn.Conv2d(3, 6, 5)\n",
        "        self.pool = nn.MaxPool2d(2, 2)\n",
        "        self.conv2 = nn.Conv2d(6, 16, 5)\n",
        "        self.fc1 = nn.Linear(16*5*5, 120)\n",
        "        self.fc2 = nn.Linear(120, 84)\n",
        "        self.fc3 = nn.Linear(84, 10)\n",
        "\n",
        "    def forward(self, x):\n",
        "        x = self.pool(F.relu(self.conv1(x)))\n",
        "        x = self.pool(F.relu(self.conv2(x)))\n",
        "        x = x.view(-1, 16*5*5)\n",
        "        x = F.relu(self.fc1(x))\n",
        "        x = F.relu(self.fc2(x))\n",
        "        x = self.fc3(x)\n",
        "\n",
        "        return x # return logits"
      ],
      "metadata": {
        "id": "me2LWdo6JEEq"
      },
      "execution_count": 6,
      "outputs": []
    },
    {
      "cell_type": "code",
      "source": [
        "model = ConvNet().to(device)\n",
        "\n",
        "criterion = nn.CrossEntropyLoss()\n",
        "optimizer = torch.optim.SGD(model.parameters(), lr=learning_rate)\n",
        "\n",
        "n_total_steps = len(train_loader)\n",
        "for epoch in range(num_epochs):\n",
        "    for i, (images, labels) in enumerate(train_loader):\n",
        "        # origin shape = [4, 3, 32, 32] = 4, 3, 1024\n",
        "        # input_layer = 3 input channels, 6 output channels, 5 kernel size\n",
        "        images = images.to(device)\n",
        "        labels = labels.to(device)\n",
        "\n",
        "        # forward pass\n",
        "        outputs = model(images)\n",
        "        loss = criterion(outputs, labels)\n",
        "\n",
        "        # Backward and optimize\n",
        "        optimizer.zero_grad()\n",
        "        loss.backward()\n",
        "        optimizer.step()\n",
        "\n",
        "        if (i+1) % 2000 == 0:\n",
        "            print(f'Epoch [{epoch+1}/{num_epochs}], Step [{i+1}/{n_total_steps}], Loss: {loss.item():.4f}%')\n",
        "\n",
        "print('Finished Training')"
      ],
      "metadata": {
        "colab": {
          "base_uri": "https://localhost:8080/"
        },
        "collapsed": true,
        "id": "GnAC50MaBt9K",
        "outputId": "e7c9e4a0-5d1e-4dcc-8c95-14410d798dab"
      },
      "execution_count": 7,
      "outputs": [
        {
          "output_type": "stream",
          "name": "stdout",
          "text": [
            "Epoch [1/10], Step [2000/12500], Loss: 2.3417%\n",
            "Epoch [1/10], Step [4000/12500], Loss: 2.2273%\n",
            "Epoch [1/10], Step [6000/12500], Loss: 2.2509%\n",
            "Epoch [1/10], Step [8000/12500], Loss: 2.3340%\n",
            "Epoch [1/10], Step [10000/12500], Loss: 1.6116%\n",
            "Epoch [1/10], Step [12000/12500], Loss: 1.9163%\n",
            "Epoch [2/10], Step [2000/12500], Loss: 2.2104%\n",
            "Epoch [2/10], Step [4000/12500], Loss: 2.5718%\n",
            "Epoch [2/10], Step [6000/12500], Loss: 1.9331%\n",
            "Epoch [2/10], Step [8000/12500], Loss: 1.9879%\n",
            "Epoch [2/10], Step [10000/12500], Loss: 1.7769%\n",
            "Epoch [2/10], Step [12000/12500], Loss: 1.8733%\n",
            "Epoch [3/10], Step [2000/12500], Loss: 1.8540%\n",
            "Epoch [3/10], Step [4000/12500], Loss: 0.8933%\n",
            "Epoch [3/10], Step [6000/12500], Loss: 1.4384%\n",
            "Epoch [3/10], Step [8000/12500], Loss: 0.9237%\n",
            "Epoch [3/10], Step [10000/12500], Loss: 1.0251%\n",
            "Epoch [3/10], Step [12000/12500], Loss: 2.4772%\n",
            "Epoch [4/10], Step [2000/12500], Loss: 1.3191%\n",
            "Epoch [4/10], Step [4000/12500], Loss: 1.6497%\n",
            "Epoch [4/10], Step [6000/12500], Loss: 1.7442%\n",
            "Epoch [4/10], Step [8000/12500], Loss: 1.6798%\n",
            "Epoch [4/10], Step [10000/12500], Loss: 1.3760%\n",
            "Epoch [4/10], Step [12000/12500], Loss: 1.2423%\n",
            "Epoch [5/10], Step [2000/12500], Loss: 1.2152%\n",
            "Epoch [5/10], Step [4000/12500], Loss: 1.3228%\n",
            "Epoch [5/10], Step [6000/12500], Loss: 1.2248%\n",
            "Epoch [5/10], Step [8000/12500], Loss: 2.7406%\n",
            "Epoch [5/10], Step [10000/12500], Loss: 1.5602%\n",
            "Epoch [5/10], Step [12000/12500], Loss: 2.6342%\n",
            "Epoch [6/10], Step [2000/12500], Loss: 1.4398%\n",
            "Epoch [6/10], Step [4000/12500], Loss: 1.0076%\n",
            "Epoch [6/10], Step [6000/12500], Loss: 1.3766%\n",
            "Epoch [6/10], Step [8000/12500], Loss: 1.3038%\n",
            "Epoch [6/10], Step [10000/12500], Loss: 1.8638%\n",
            "Epoch [6/10], Step [12000/12500], Loss: 2.0472%\n",
            "Epoch [7/10], Step [2000/12500], Loss: 1.3014%\n",
            "Epoch [7/10], Step [4000/12500], Loss: 1.0263%\n",
            "Epoch [7/10], Step [6000/12500], Loss: 1.6126%\n",
            "Epoch [7/10], Step [8000/12500], Loss: 1.2689%\n",
            "Epoch [7/10], Step [10000/12500], Loss: 2.8149%\n",
            "Epoch [7/10], Step [12000/12500], Loss: 2.0299%\n",
            "Epoch [8/10], Step [2000/12500], Loss: 1.2677%\n",
            "Epoch [8/10], Step [4000/12500], Loss: 2.2191%\n",
            "Epoch [8/10], Step [6000/12500], Loss: 1.1267%\n",
            "Epoch [8/10], Step [8000/12500], Loss: 1.6845%\n",
            "Epoch [8/10], Step [10000/12500], Loss: 1.4135%\n",
            "Epoch [8/10], Step [12000/12500], Loss: 0.8193%\n",
            "Epoch [9/10], Step [2000/12500], Loss: 1.0756%\n",
            "Epoch [9/10], Step [4000/12500], Loss: 1.0989%\n",
            "Epoch [9/10], Step [6000/12500], Loss: 0.9236%\n",
            "Epoch [9/10], Step [8000/12500], Loss: 0.8932%\n",
            "Epoch [9/10], Step [10000/12500], Loss: 1.1473%\n",
            "Epoch [9/10], Step [12000/12500], Loss: 2.3185%\n",
            "Epoch [10/10], Step [2000/12500], Loss: 0.4923%\n",
            "Epoch [10/10], Step [4000/12500], Loss: 1.5040%\n",
            "Epoch [10/10], Step [6000/12500], Loss: 1.2128%\n",
            "Epoch [10/10], Step [8000/12500], Loss: 0.8366%\n",
            "Epoch [10/10], Step [10000/12500], Loss: 1.2334%\n",
            "Epoch [10/10], Step [12000/12500], Loss: 1.1709%\n",
            "Finished Training\n"
          ]
        }
      ]
    },
    {
      "cell_type": "code",
      "source": [
        "with torch.no_grad():\n",
        "    n_correct = 0\n",
        "    n_samples = 0\n",
        "    n_class_correct = [0 for i in range(10)]\n",
        "    n_class_samples = [0 for i in range(10)]\n",
        "    for images, labels in test_loader:\n",
        "        images = images.to(device)\n",
        "        labels = labels.to(device)\n",
        "        outputs = model(images)\n",
        "        # max returns (value, index)\n",
        "        _, predicted = torch.max(outputs, 1)\n",
        "        n_samples += labels.size(0)\n",
        "        n_correct += (predicted==labels).sum().item()\n",
        "\n",
        "        for i in range(batch_size):\n",
        "            label = labels[i]\n",
        "            pred = predicted[i]\n",
        "            if (label==pred):\n",
        "                n_class_correct[label] += 1\n",
        "            n_class_samples[label] += 1\n",
        "\n",
        "    acc = 100.0 * n_correct / n_samples\n",
        "    print(f'Accuracy of the network: {acc} %')\n",
        "\n",
        "    for i in range(10):\n",
        "        acc = 100.0 * n_class_correct[i] / n_class_samples[i]\n",
        "        print(f'Accuracy of {classes[i]}: {acc} %')"
      ],
      "metadata": {
        "colab": {
          "base_uri": "https://localhost:8080/"
        },
        "id": "HUxIuqRmI68V",
        "outputId": "c511b7de-c8dd-4ee4-cab7-da7bca47bf0b"
      },
      "execution_count": 8,
      "outputs": [
        {
          "output_type": "stream",
          "name": "stdout",
          "text": [
            "Accuracy of the network: 56.97 %\n",
            "Accuracy of plane: 58.8 %\n",
            "Accuracy of car: 73.0 %\n",
            "Accuracy of bird: 50.2 %\n",
            "Accuracy of cat: 48.2 %\n",
            "Accuracy of deer: 43.1 %\n",
            "Accuracy of dog: 48.7 %\n",
            "Accuracy of frog: 65.3 %\n",
            "Accuracy of horse: 60.6 %\n",
            "Accuracy of ship: 71.6 %\n",
            "Accuracy of truck: 50.2 %\n"
          ]
        }
      ]
    },
    {
      "cell_type": "code",
      "source": [],
      "metadata": {
        "id": "nAdOEC4ENTxg"
      },
      "execution_count": 8,
      "outputs": []
    }
  ]
}