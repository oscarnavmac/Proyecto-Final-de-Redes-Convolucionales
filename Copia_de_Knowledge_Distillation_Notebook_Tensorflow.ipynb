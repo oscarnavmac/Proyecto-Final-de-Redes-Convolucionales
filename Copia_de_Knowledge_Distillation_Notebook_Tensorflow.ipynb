{
  "nbformat": 4,
  "nbformat_minor": 0,
  "metadata": {
    "colab": {
      "provenance": []
    },
    "kernelspec": {
      "name": "python3",
      "display_name": "Python 3"
    },
    "accelerator": "GPU"
  },
  "cells": [
    {
      "cell_type": "markdown",
      "metadata": {
        "id": "AXtR3INVPcHJ"
      },
      "source": [
        "# Distilling Knowledge in Neural Network\n",
        "\n",
        "The term \"Knowledge Distillation\" (a.k.a Teacher-Student Model) was first introduced by (Bu-cilu et al., 2006; Ba & Caruana,2014) and has been popularized by (Hinton et al., 2015), as a way to let smaller deep learning models learn how bigger ones generalize to large datasets, hence increase the performance of the smaller one. In this notebook, I'll try to explain the idea of knowledge distillation alongside with hands-on implementation of it.\n",
        "\n",
        "# The main idea\n"
      ]
    },
    {
      "cell_type": "markdown",
      "metadata": {
        "id": "ce65yuvootlq"
      },
      "source": [
        "# Install and import requirements\n"
      ]
    },
    {
      "cell_type": "code",
      "metadata": {
        "id": "xWnbC2ooAfNf"
      },
      "source": [
        "import tensorflow as tf\n",
        "import matplotlib.pyplot as plt\n",
        "import numpy as np\n",
        "from tensorflow.keras.models import Sequential, load_model, Model\n",
        "from tensorflow.keras.layers import Conv2D,GlobalAveragePooling2D,Dense,Softmax,Flatten,MaxPooling2D,Dropout,Activation, Lambda, concatenate\n",
        "from tensorflow.keras.callbacks import ModelCheckpoint\n",
        "from tensorflow.keras.losses import kullback_leibler_divergence as KLD_Loss, categorical_crossentropy as logloss\n",
        "from tensorflow.keras.utils import to_categorical\n",
        "from tensorflow.keras.metrics import categorical_accuracy\n",
        "import seaborn as sns"
      ],
      "execution_count": null,
      "outputs": []
    },
    {
      "cell_type": "markdown",
      "metadata": {
        "id": "2wQvkPoB7Cnr"
      },
      "source": [
        "#  Load and preprocess the data"
      ]
    },
    {
      "cell_type": "code",
      "metadata": {
        "id": "N4nKTacmAjXh",
        "outputId": "189d8ff3-9b04-427f-8834-f8817325858f",
        "colab": {
          "base_uri": "https://localhost:8080/"
        }
      },
      "source": [
        "NUM_CLASSES = 10\n",
        "(x_train, y_train), (x_test, y_test) = tf.keras.datasets.cifar10.load_data()\n",
        "print(\"x_train shape:\", x_train.shape, \"y_train shape:\", y_train.shape)\n",
        "\n",
        "# Normalize the dataset\n",
        "x_train = x_train.astype('float32') / 255\n",
        "x_test = x_test.astype('float32') / 255\n",
        "\n",
        "# Reshape each example to WIDTH*HEIGHT*CHANNELS for Convolution operation\n",
        "# x_test = x_test.reshape(-1,,28,1)\n",
        "# x_train = x_train.reshape(-1,28,28,1)\n"
      ],
      "execution_count": null,
      "outputs": [
        {
          "output_type": "stream",
          "name": "stdout",
          "text": [
            "Downloading data from https://www.cs.toronto.edu/~kriz/cifar-10-python.tar.gz\n",
            "170498071/170498071 [==============================] - 4s 0us/step\n",
            "x_train shape: (50000, 32, 32, 3) y_train shape: (50000, 1)\n"
          ]
        }
      ]
    },
    {
      "cell_type": "markdown",
      "metadata": {
        "id": "rYDhVMdU7dWN"
      },
      "source": [
        "# Create teacher model"
      ]
    },
    {
      "cell_type": "code",
      "metadata": {
        "id": "B_EpiY-nA8u6",
        "outputId": "249fe582-d859-4fc1-b1ba-9e811acdb44d",
        "colab": {
          "base_uri": "https://localhost:8080/"
        }
      },
      "source": [
        "Teacher = Sequential() # Must define the input shape in the first layer of the neural network\n",
        "Teacher.add(Conv2D(filters=32, kernel_size=2, padding='same', activation='relu', input_shape=(32,32,3)))\n",
        "Teacher.add(MaxPooling2D(pool_size=2))\n",
        "Teacher.add(Conv2D(filters=64, kernel_size=2, padding='same', activation='relu'))\n",
        "Teacher.add(MaxPooling2D(pool_size=2))\n",
        "Teacher.add(Flatten())\n",
        "Teacher.add(Dense(256, activation='relu'))\n",
        "Teacher.add(Dropout(0.5))\n",
        "Teacher.add(Dense(10))\n",
        "Teacher.add(Activation('softmax'))\n",
        "\n",
        "Teacher.compile(loss='sparse_categorical_crossentropy',\n",
        "             optimizer='adam',\n",
        "             metrics=['accuracy'])\n",
        "\n",
        "# Take a look at the model summary\n",
        "\n",
        "Teacher.summary()"
      ],
      "execution_count": null,
      "outputs": [
        {
          "output_type": "stream",
          "name": "stdout",
          "text": [
            "Model: \"sequential\"\n",
            "_________________________________________________________________\n",
            " Layer (type)                Output Shape              Param #   \n",
            "=================================================================\n",
            " conv2d (Conv2D)             (None, 32, 32, 32)        416       \n",
            "                                                                 \n",
            " max_pooling2d (MaxPooling2  (None, 16, 16, 32)        0         \n",
            " D)                                                              \n",
            "                                                                 \n",
            " conv2d_1 (Conv2D)           (None, 16, 16, 64)        8256      \n",
            "                                                                 \n",
            " max_pooling2d_1 (MaxPoolin  (None, 8, 8, 64)          0         \n",
            " g2D)                                                            \n",
            "                                                                 \n",
            " flatten (Flatten)           (None, 4096)              0         \n",
            "                                                                 \n",
            " dense (Dense)               (None, 256)               1048832   \n",
            "                                                                 \n",
            " dropout (Dropout)           (None, 256)               0         \n",
            "                                                                 \n",
            " dense_1 (Dense)             (None, 10)                2570      \n",
            "                                                                 \n",
            " activation (Activation)     (None, 10)                0         \n",
            "                                                                 \n",
            "=================================================================\n",
            "Total params: 1060074 (4.04 MB)\n",
            "Trainable params: 1060074 (4.04 MB)\n",
            "Non-trainable params: 0 (0.00 Byte)\n",
            "_________________________________________________________________\n"
          ]
        }
      ]
    },
    {
      "cell_type": "code",
      "metadata": {
        "id": "WEcS4uUpBD6Q",
        "outputId": "20889f7b-3d09-4192-ee63-2a05c60f5fba",
        "colab": {
          "base_uri": "https://localhost:8080/"
        }
      },
      "source": [
        "myCP = ModelCheckpoint(save_best_only=True,filepath='teacher.h5',monitor = 'val_acc')\n",
        "Teacher.fit(x_train,\n",
        "         y_train,\n",
        "         batch_size=128,\n",
        "         epochs=40,\n",
        "         validation_split = 0.2,\n",
        "         callbacks=[myCP])"
      ],
      "execution_count": null,
      "outputs": [
        {
          "output_type": "stream",
          "name": "stdout",
          "text": [
            "Epoch 1/40\n",
            "313/313 [==============================] - ETA: 0s - loss: 1.7092 - accuracy: 0.3765"
          ]
        },
        {
          "output_type": "stream",
          "name": "stderr",
          "text": [
            "WARNING:tensorflow:Can save best model only with val_acc available, skipping.\n"
          ]
        },
        {
          "output_type": "stream",
          "name": "stdout",
          "text": [
            "\b\b\b\b\b\b\b\b\b\b\b\b\b\b\b\b\b\b\b\b\b\b\b\b\b\b\b\b\b\b\b\b\b\b\b\b\b\b\b\b\b\b\b\b\b\b\b\b\b\b\b\b\b\b\b\b\b\b\b\b\b\b\b\b\b\b\b\b\b\b\b\b\b\b\b\b\b\b\b\b\b\b\b\b\r313/313 [==============================] - 8s 10ms/step - loss: 1.7092 - accuracy: 0.3765 - val_loss: 1.3792 - val_accuracy: 0.5143\n",
            "Epoch 2/40\n",
            "305/313 [============================>.] - ETA: 0s - loss: 1.3654 - accuracy: 0.5082"
          ]
        },
        {
          "output_type": "stream",
          "name": "stderr",
          "text": [
            "WARNING:tensorflow:Can save best model only with val_acc available, skipping.\n"
          ]
        },
        {
          "output_type": "stream",
          "name": "stdout",
          "text": [
            "\b\b\b\b\b\b\b\b\b\b\b\b\b\b\b\b\b\b\b\b\b\b\b\b\b\b\b\b\b\b\b\b\b\b\b\b\b\b\b\b\b\b\b\b\b\b\b\b\b\b\b\b\b\b\b\b\b\b\b\b\b\b\b\b\b\b\b\b\b\b\b\b\b\b\b\b\b\b\b\b\b\b\b\b\r313/313 [==============================] - 2s 6ms/step - loss: 1.3649 - accuracy: 0.5084 - val_loss: 1.2302 - val_accuracy: 0.5833\n",
            "Epoch 3/40\n",
            "313/313 [==============================] - ETA: 0s - loss: 1.2445 - accuracy: 0.5546"
          ]
        },
        {
          "output_type": "stream",
          "name": "stderr",
          "text": [
            "WARNING:tensorflow:Can save best model only with val_acc available, skipping.\n"
          ]
        },
        {
          "output_type": "stream",
          "name": "stdout",
          "text": [
            "\b\b\b\b\b\b\b\b\b\b\b\b\b\b\b\b\b\b\b\b\b\b\b\b\b\b\b\b\b\b\b\b\b\b\b\b\b\b\b\b\b\b\b\b\b\b\b\b\b\b\b\b\b\b\b\b\b\b\b\b\b\b\b\b\b\b\b\b\b\b\b\b\b\b\b\b\b\b\b\b\b\b\b\b\r313/313 [==============================] - 2s 6ms/step - loss: 1.2445 - accuracy: 0.5546 - val_loss: 1.1149 - val_accuracy: 0.6072\n",
            "Epoch 4/40\n",
            "313/313 [==============================] - ETA: 0s - loss: 1.1583 - accuracy: 0.5868"
          ]
        },
        {
          "output_type": "stream",
          "name": "stderr",
          "text": [
            "WARNING:tensorflow:Can save best model only with val_acc available, skipping.\n"
          ]
        },
        {
          "output_type": "stream",
          "name": "stdout",
          "text": [
            "\b\b\b\b\b\b\b\b\b\b\b\b\b\b\b\b\b\b\b\b\b\b\b\b\b\b\b\b\b\b\b\b\b\b\b\b\b\b\b\b\b\b\b\b\b\b\b\b\b\b\b\b\b\b\b\b\b\b\b\b\b\b\b\b\b\b\b\b\b\b\b\b\b\b\b\b\b\b\b\b\b\b\b\b\r313/313 [==============================] - 2s 6ms/step - loss: 1.1583 - accuracy: 0.5868 - val_loss: 1.0650 - val_accuracy: 0.6286\n",
            "Epoch 5/40\n",
            "306/313 [============================>.] - ETA: 0s - loss: 1.0892 - accuracy: 0.6121"
          ]
        },
        {
          "output_type": "stream",
          "name": "stderr",
          "text": [
            "WARNING:tensorflow:Can save best model only with val_acc available, skipping.\n"
          ]
        },
        {
          "output_type": "stream",
          "name": "stdout",
          "text": [
            "\b\b\b\b\b\b\b\b\b\b\b\b\b\b\b\b\b\b\b\b\b\b\b\b\b\b\b\b\b\b\b\b\b\b\b\b\b\b\b\b\b\b\b\b\b\b\b\b\b\b\b\b\b\b\b\b\b\b\b\b\b\b\b\b\b\b\b\b\b\b\b\b\b\b\b\b\b\b\b\b\b\b\b\b\r313/313 [==============================] - 2s 7ms/step - loss: 1.0899 - accuracy: 0.6117 - val_loss: 1.0177 - val_accuracy: 0.6424\n",
            "Epoch 6/40\n",
            "305/313 [============================>.] - ETA: 0s - loss: 1.0315 - accuracy: 0.6367"
          ]
        },
        {
          "output_type": "stream",
          "name": "stderr",
          "text": [
            "WARNING:tensorflow:Can save best model only with val_acc available, skipping.\n"
          ]
        },
        {
          "output_type": "stream",
          "name": "stdout",
          "text": [
            "\b\b\b\b\b\b\b\b\b\b\b\b\b\b\b\b\b\b\b\b\b\b\b\b\b\b\b\b\b\b\b\b\b\b\b\b\b\b\b\b\b\b\b\b\b\b\b\b\b\b\b\b\b\b\b\b\b\b\b\b\b\b\b\b\b\b\b\b\b\b\b\b\b\b\b\b\b\b\b\b\b\b\b\b\r313/313 [==============================] - 2s 7ms/step - loss: 1.0314 - accuracy: 0.6364 - val_loss: 0.9874 - val_accuracy: 0.6516\n",
            "Epoch 7/40\n",
            "306/313 [============================>.] - ETA: 0s - loss: 0.9836 - accuracy: 0.6517"
          ]
        },
        {
          "output_type": "stream",
          "name": "stderr",
          "text": [
            "WARNING:tensorflow:Can save best model only with val_acc available, skipping.\n"
          ]
        },
        {
          "output_type": "stream",
          "name": "stdout",
          "text": [
            "\b\b\b\b\b\b\b\b\b\b\b\b\b\b\b\b\b\b\b\b\b\b\b\b\b\b\b\b\b\b\b\b\b\b\b\b\b\b\b\b\b\b\b\b\b\b\b\b\b\b\b\b\b\b\b\b\b\b\b\b\b\b\b\b\b\b\b\b\b\b\b\b\b\b\b\b\b\b\b\b\b\b\b\b\r313/313 [==============================] - 2s 7ms/step - loss: 0.9822 - accuracy: 0.6522 - val_loss: 0.9573 - val_accuracy: 0.6616\n",
            "Epoch 8/40\n",
            "308/313 [============================>.] - ETA: 0s - loss: 0.9423 - accuracy: 0.6667"
          ]
        },
        {
          "output_type": "stream",
          "name": "stderr",
          "text": [
            "WARNING:tensorflow:Can save best model only with val_acc available, skipping.\n"
          ]
        },
        {
          "output_type": "stream",
          "name": "stdout",
          "text": [
            "\b\b\b\b\b\b\b\b\b\b\b\b\b\b\b\b\b\b\b\b\b\b\b\b\b\b\b\b\b\b\b\b\b\b\b\b\b\b\b\b\b\b\b\b\b\b\b\b\b\b\b\b\b\b\b\b\b\b\b\b\b\b\b\b\b\b\b\b\b\b\b\b\b\b\b\b\b\b\b\b\b\b\b\b\r313/313 [==============================] - 2s 6ms/step - loss: 0.9433 - accuracy: 0.6661 - val_loss: 0.9628 - val_accuracy: 0.6623\n",
            "Epoch 9/40\n",
            "305/313 [============================>.] - ETA: 0s - loss: 0.9039 - accuracy: 0.6818"
          ]
        },
        {
          "output_type": "stream",
          "name": "stderr",
          "text": [
            "WARNING:tensorflow:Can save best model only with val_acc available, skipping.\n"
          ]
        },
        {
          "output_type": "stream",
          "name": "stdout",
          "text": [
            "\b\b\b\b\b\b\b\b\b\b\b\b\b\b\b\b\b\b\b\b\b\b\b\b\b\b\b\b\b\b\b\b\b\b\b\b\b\b\b\b\b\b\b\b\b\b\b\b\b\b\b\b\b\b\b\b\b\b\b\b\b\b\b\b\b\b\b\b\b\b\b\b\b\b\b\b\b\b\b\b\b\b\b\b\r313/313 [==============================] - 2s 6ms/step - loss: 0.9031 - accuracy: 0.6822 - val_loss: 0.9039 - val_accuracy: 0.6846\n",
            "Epoch 10/40\n",
            "310/313 [============================>.] - ETA: 0s - loss: 0.8597 - accuracy: 0.6961"
          ]
        },
        {
          "output_type": "stream",
          "name": "stderr",
          "text": [
            "WARNING:tensorflow:Can save best model only with val_acc available, skipping.\n"
          ]
        },
        {
          "output_type": "stream",
          "name": "stdout",
          "text": [
            "\b\b\b\b\b\b\b\b\b\b\b\b\b\b\b\b\b\b\b\b\b\b\b\b\b\b\b\b\b\b\b\b\b\b\b\b\b\b\b\b\b\b\b\b\b\b\b\b\b\b\b\b\b\b\b\b\b\b\b\b\b\b\b\b\b\b\b\b\b\b\b\b\b\b\b\b\b\b\b\b\b\b\b\b\r313/313 [==============================] - 2s 6ms/step - loss: 0.8598 - accuracy: 0.6960 - val_loss: 0.8856 - val_accuracy: 0.6917\n",
            "Epoch 11/40\n",
            "309/313 [============================>.] - ETA: 0s - loss: 0.8398 - accuracy: 0.7036"
          ]
        },
        {
          "output_type": "stream",
          "name": "stderr",
          "text": [
            "WARNING:tensorflow:Can save best model only with val_acc available, skipping.\n"
          ]
        },
        {
          "output_type": "stream",
          "name": "stdout",
          "text": [
            "\b\b\b\b\b\b\b\b\b\b\b\b\b\b\b\b\b\b\b\b\b\b\b\b\b\b\b\b\b\b\b\b\b\b\b\b\b\b\b\b\b\b\b\b\b\b\b\b\b\b\b\b\b\b\b\b\b\b\b\b\b\b\b\b\b\b\b\b\b\b\b\b\b\b\b\b\b\b\b\b\b\b\b\b\r313/313 [==============================] - 2s 6ms/step - loss: 0.8391 - accuracy: 0.7038 - val_loss: 0.8774 - val_accuracy: 0.6955\n",
            "Epoch 12/40\n",
            "308/313 [============================>.] - ETA: 0s - loss: 0.7941 - accuracy: 0.7179"
          ]
        },
        {
          "output_type": "stream",
          "name": "stderr",
          "text": [
            "WARNING:tensorflow:Can save best model only with val_acc available, skipping.\n"
          ]
        },
        {
          "output_type": "stream",
          "name": "stdout",
          "text": [
            "\b\b\b\b\b\b\b\b\b\b\b\b\b\b\b\b\b\b\b\b\b\b\b\b\b\b\b\b\b\b\b\b\b\b\b\b\b\b\b\b\b\b\b\b\b\b\b\b\b\b\b\b\b\b\b\b\b\b\b\b\b\b\b\b\b\b\b\b\b\b\b\b\b\b\b\b\b\b\b\b\b\b\b\b\r313/313 [==============================] - 2s 6ms/step - loss: 0.7943 - accuracy: 0.7175 - val_loss: 0.8966 - val_accuracy: 0.6920\n",
            "Epoch 13/40\n",
            "311/313 [============================>.] - ETA: 0s - loss: 0.7656 - accuracy: 0.7284"
          ]
        },
        {
          "output_type": "stream",
          "name": "stderr",
          "text": [
            "WARNING:tensorflow:Can save best model only with val_acc available, skipping.\n"
          ]
        },
        {
          "output_type": "stream",
          "name": "stdout",
          "text": [
            "\b\b\b\b\b\b\b\b\b\b\b\b\b\b\b\b\b\b\b\b\b\b\b\b\b\b\b\b\b\b\b\b\b\b\b\b\b\b\b\b\b\b\b\b\b\b\b\b\b\b\b\b\b\b\b\b\b\b\b\b\b\b\b\b\b\b\b\b\b\b\b\b\b\b\b\b\b\b\b\b\b\b\b\b\r313/313 [==============================] - 2s 7ms/step - loss: 0.7655 - accuracy: 0.7286 - val_loss: 0.8554 - val_accuracy: 0.7020\n",
            "Epoch 14/40\n",
            "305/313 [============================>.] - ETA: 0s - loss: 0.7341 - accuracy: 0.7393"
          ]
        },
        {
          "output_type": "stream",
          "name": "stderr",
          "text": [
            "WARNING:tensorflow:Can save best model only with val_acc available, skipping.\n"
          ]
        },
        {
          "output_type": "stream",
          "name": "stdout",
          "text": [
            "\b\b\b\b\b\b\b\b\b\b\b\b\b\b\b\b\b\b\b\b\b\b\b\b\b\b\b\b\b\b\b\b\b\b\b\b\b\b\b\b\b\b\b\b\b\b\b\b\b\b\b\b\b\b\b\b\b\b\b\b\b\b\b\b\b\b\b\b\b\b\b\b\b\b\b\b\b\b\b\b\b\b\b\b\r313/313 [==============================] - 2s 6ms/step - loss: 0.7339 - accuracy: 0.7394 - val_loss: 0.8662 - val_accuracy: 0.7008\n",
            "Epoch 15/40\n",
            "308/313 [============================>.] - ETA: 0s - loss: 0.7011 - accuracy: 0.7502"
          ]
        },
        {
          "output_type": "stream",
          "name": "stderr",
          "text": [
            "WARNING:tensorflow:Can save best model only with val_acc available, skipping.\n"
          ]
        },
        {
          "output_type": "stream",
          "name": "stdout",
          "text": [
            "\b\b\b\b\b\b\b\b\b\b\b\b\b\b\b\b\b\b\b\b\b\b\b\b\b\b\b\b\b\b\b\b\b\b\b\b\b\b\b\b\b\b\b\b\b\b\b\b\b\b\b\b\b\b\b\b\b\b\b\b\b\b\b\b\b\b\b\b\b\b\b\b\b\b\b\b\b\b\b\b\b\b\b\b\r313/313 [==============================] - 2s 6ms/step - loss: 0.7012 - accuracy: 0.7502 - val_loss: 0.8539 - val_accuracy: 0.7085\n",
            "Epoch 16/40\n",
            "312/313 [============================>.] - ETA: 0s - loss: 0.6826 - accuracy: 0.7579"
          ]
        },
        {
          "output_type": "stream",
          "name": "stderr",
          "text": [
            "WARNING:tensorflow:Can save best model only with val_acc available, skipping.\n"
          ]
        },
        {
          "output_type": "stream",
          "name": "stdout",
          "text": [
            "\b\b\b\b\b\b\b\b\b\b\b\b\b\b\b\b\b\b\b\b\b\b\b\b\b\b\b\b\b\b\b\b\b\b\b\b\b\b\b\b\b\b\b\b\b\b\b\b\b\b\b\b\b\b\b\b\b\b\b\b\b\b\b\b\b\b\b\b\b\b\b\b\b\b\b\b\b\b\b\b\b\b\b\b\r313/313 [==============================] - 2s 6ms/step - loss: 0.6825 - accuracy: 0.7579 - val_loss: 0.8416 - val_accuracy: 0.7122\n",
            "Epoch 17/40\n",
            "310/313 [============================>.] - ETA: 0s - loss: 0.6526 - accuracy: 0.7667"
          ]
        },
        {
          "output_type": "stream",
          "name": "stderr",
          "text": [
            "WARNING:tensorflow:Can save best model only with val_acc available, skipping.\n"
          ]
        },
        {
          "output_type": "stream",
          "name": "stdout",
          "text": [
            "\b\b\b\b\b\b\b\b\b\b\b\b\b\b\b\b\b\b\b\b\b\b\b\b\b\b\b\b\b\b\b\b\b\b\b\b\b\b\b\b\b\b\b\b\b\b\b\b\b\b\b\b\b\b\b\b\b\b\b\b\b\b\b\b\b\b\b\b\b\b\b\b\b\b\b\b\b\b\b\b\b\b\b\b\r313/313 [==============================] - 2s 6ms/step - loss: 0.6534 - accuracy: 0.7667 - val_loss: 0.8654 - val_accuracy: 0.7056\n",
            "Epoch 18/40\n",
            "307/313 [============================>.] - ETA: 0s - loss: 0.6273 - accuracy: 0.7736"
          ]
        },
        {
          "output_type": "stream",
          "name": "stderr",
          "text": [
            "WARNING:tensorflow:Can save best model only with val_acc available, skipping.\n"
          ]
        },
        {
          "output_type": "stream",
          "name": "stdout",
          "text": [
            "\b\b\b\b\b\b\b\b\b\b\b\b\b\b\b\b\b\b\b\b\b\b\b\b\b\b\b\b\b\b\b\b\b\b\b\b\b\b\b\b\b\b\b\b\b\b\b\b\b\b\b\b\b\b\b\b\b\b\b\b\b\b\b\b\b\b\b\b\b\b\b\b\b\b\b\b\b\b\b\b\b\b\b\b\r313/313 [==============================] - 2s 6ms/step - loss: 0.6270 - accuracy: 0.7737 - val_loss: 0.8473 - val_accuracy: 0.7170\n",
            "Epoch 19/40\n",
            "306/313 [============================>.] - ETA: 0s - loss: 0.6119 - accuracy: 0.7774"
          ]
        },
        {
          "output_type": "stream",
          "name": "stderr",
          "text": [
            "WARNING:tensorflow:Can save best model only with val_acc available, skipping.\n"
          ]
        },
        {
          "output_type": "stream",
          "name": "stdout",
          "text": [
            "\b\b\b\b\b\b\b\b\b\b\b\b\b\b\b\b\b\b\b\b\b\b\b\b\b\b\b\b\b\b\b\b\b\b\b\b\b\b\b\b\b\b\b\b\b\b\b\b\b\b\b\b\b\b\b\b\b\b\b\b\b\b\b\b\b\b\b\b\b\b\b\b\b\b\b\b\b\b\b\b\b\b\b\b\r313/313 [==============================] - 2s 7ms/step - loss: 0.6115 - accuracy: 0.7782 - val_loss: 0.8650 - val_accuracy: 0.7108\n",
            "Epoch 20/40\n",
            "312/313 [============================>.] - ETA: 0s - loss: 0.5831 - accuracy: 0.7911"
          ]
        },
        {
          "output_type": "stream",
          "name": "stderr",
          "text": [
            "WARNING:tensorflow:Can save best model only with val_acc available, skipping.\n"
          ]
        },
        {
          "output_type": "stream",
          "name": "stdout",
          "text": [
            "\b\b\b\b\b\b\b\b\b\b\b\b\b\b\b\b\b\b\b\b\b\b\b\b\b\b\b\b\b\b\b\b\b\b\b\b\b\b\b\b\b\b\b\b\b\b\b\b\b\b\b\b\b\b\b\b\b\b\b\b\b\b\b\b\b\b\b\b\b\b\b\b\b\b\b\b\b\b\b\b\b\b\b\b\r313/313 [==============================] - 2s 6ms/step - loss: 0.5830 - accuracy: 0.7911 - val_loss: 0.8636 - val_accuracy: 0.7163\n",
            "Epoch 21/40\n",
            "306/313 [============================>.] - ETA: 0s - loss: 0.5530 - accuracy: 0.7997"
          ]
        },
        {
          "output_type": "stream",
          "name": "stderr",
          "text": [
            "WARNING:tensorflow:Can save best model only with val_acc available, skipping.\n"
          ]
        },
        {
          "output_type": "stream",
          "name": "stdout",
          "text": [
            "\b\b\b\b\b\b\b\b\b\b\b\b\b\b\b\b\b\b\b\b\b\b\b\b\b\b\b\b\b\b\b\b\b\b\b\b\b\b\b\b\b\b\b\b\b\b\b\b\b\b\b\b\b\b\b\b\b\b\b\b\b\b\b\b\b\b\b\b\b\b\b\b\b\b\b\b\b\b\b\b\b\b\b\b\r313/313 [==============================] - 2s 6ms/step - loss: 0.5527 - accuracy: 0.7995 - val_loss: 0.8809 - val_accuracy: 0.7171\n",
            "Epoch 22/40\n",
            "308/313 [============================>.] - ETA: 0s - loss: 0.5356 - accuracy: 0.8058"
          ]
        },
        {
          "output_type": "stream",
          "name": "stderr",
          "text": [
            "WARNING:tensorflow:Can save best model only with val_acc available, skipping.\n"
          ]
        },
        {
          "output_type": "stream",
          "name": "stdout",
          "text": [
            "\b\b\b\b\b\b\b\b\b\b\b\b\b\b\b\b\b\b\b\b\b\b\b\b\b\b\b\b\b\b\b\b\b\b\b\b\b\b\b\b\b\b\b\b\b\b\b\b\b\b\b\b\b\b\b\b\b\b\b\b\b\b\b\b\b\b\b\b\b\b\b\b\b\b\b\b\b\b\b\b\b\b\b\b\r313/313 [==============================] - 2s 6ms/step - loss: 0.5366 - accuracy: 0.8057 - val_loss: 0.8667 - val_accuracy: 0.7152\n",
            "Epoch 23/40\n",
            "304/313 [============================>.] - ETA: 0s - loss: 0.5174 - accuracy: 0.8086"
          ]
        },
        {
          "output_type": "stream",
          "name": "stderr",
          "text": [
            "WARNING:tensorflow:Can save best model only with val_acc available, skipping.\n"
          ]
        },
        {
          "output_type": "stream",
          "name": "stdout",
          "text": [
            "\b\b\b\b\b\b\b\b\b\b\b\b\b\b\b\b\b\b\b\b\b\b\b\b\b\b\b\b\b\b\b\b\b\b\b\b\b\b\b\b\b\b\b\b\b\b\b\b\b\b\b\b\b\b\b\b\b\b\b\b\b\b\b\b\b\b\b\b\b\b\b\b\b\b\b\b\b\b\b\b\b\b\b\b\r313/313 [==============================] - 2s 6ms/step - loss: 0.5171 - accuracy: 0.8090 - val_loss: 0.8665 - val_accuracy: 0.7178\n",
            "Epoch 24/40\n",
            "313/313 [==============================] - ETA: 0s - loss: 0.4931 - accuracy: 0.8224"
          ]
        },
        {
          "output_type": "stream",
          "name": "stderr",
          "text": [
            "WARNING:tensorflow:Can save best model only with val_acc available, skipping.\n"
          ]
        },
        {
          "output_type": "stream",
          "name": "stdout",
          "text": [
            "\b\b\b\b\b\b\b\b\b\b\b\b\b\b\b\b\b\b\b\b\b\b\b\b\b\b\b\b\b\b\b\b\b\b\b\b\b\b\b\b\b\b\b\b\b\b\b\b\b\b\b\b\b\b\b\b\b\b\b\b\b\b\b\b\b\b\b\b\b\b\b\b\b\b\b\b\b\b\b\b\b\b\b\b\r313/313 [==============================] - 2s 6ms/step - loss: 0.4931 - accuracy: 0.8224 - val_loss: 0.9025 - val_accuracy: 0.7154\n",
            "Epoch 25/40\n",
            "306/313 [============================>.] - ETA: 0s - loss: 0.4734 - accuracy: 0.8272"
          ]
        },
        {
          "output_type": "stream",
          "name": "stderr",
          "text": [
            "WARNING:tensorflow:Can save best model only with val_acc available, skipping.\n"
          ]
        },
        {
          "output_type": "stream",
          "name": "stdout",
          "text": [
            "\b\b\b\b\b\b\b\b\b\b\b\b\b\b\b\b\b\b\b\b\b\b\b\b\b\b\b\b\b\b\b\b\b\b\b\b\b\b\b\b\b\b\b\b\b\b\b\b\b\b\b\b\b\b\b\b\b\b\b\b\b\b\b\b\b\b\b\b\b\b\b\b\b\b\b\b\b\b\b\b\b\b\b\b\r313/313 [==============================] - 2s 7ms/step - loss: 0.4745 - accuracy: 0.8267 - val_loss: 0.9113 - val_accuracy: 0.7137\n",
            "Epoch 26/40\n",
            "305/313 [============================>.] - ETA: 0s - loss: 0.4657 - accuracy: 0.8317"
          ]
        },
        {
          "output_type": "stream",
          "name": "stderr",
          "text": [
            "WARNING:tensorflow:Can save best model only with val_acc available, skipping.\n"
          ]
        },
        {
          "output_type": "stream",
          "name": "stdout",
          "text": [
            "\b\b\b\b\b\b\b\b\b\b\b\b\b\b\b\b\b\b\b\b\b\b\b\b\b\b\b\b\b\b\b\b\b\b\b\b\b\b\b\b\b\b\b\b\b\b\b\b\b\b\b\b\b\b\b\b\b\b\b\b\b\b\b\b\b\b\b\b\b\b\b\b\b\b\b\b\b\b\b\b\b\b\b\b\r313/313 [==============================] - 2s 6ms/step - loss: 0.4655 - accuracy: 0.8317 - val_loss: 0.9237 - val_accuracy: 0.7138\n",
            "Epoch 27/40\n",
            "312/313 [============================>.] - ETA: 0s - loss: 0.4402 - accuracy: 0.8389"
          ]
        },
        {
          "output_type": "stream",
          "name": "stderr",
          "text": [
            "WARNING:tensorflow:Can save best model only with val_acc available, skipping.\n"
          ]
        },
        {
          "output_type": "stream",
          "name": "stdout",
          "text": [
            "\b\b\b\b\b\b\b\b\b\b\b\b\b\b\b\b\b\b\b\b\b\b\b\b\b\b\b\b\b\b\b\b\b\b\b\b\b\b\b\b\b\b\b\b\b\b\b\b\b\b\b\b\b\b\b\b\b\b\b\b\b\b\b\b\b\b\b\b\b\b\b\b\b\b\b\b\b\b\b\b\b\b\b\b\r313/313 [==============================] - 2s 6ms/step - loss: 0.4402 - accuracy: 0.8389 - val_loss: 0.9289 - val_accuracy: 0.7179\n",
            "Epoch 28/40\n",
            "313/313 [==============================] - ETA: 0s - loss: 0.4274 - accuracy: 0.8426"
          ]
        },
        {
          "output_type": "stream",
          "name": "stderr",
          "text": [
            "WARNING:tensorflow:Can save best model only with val_acc available, skipping.\n"
          ]
        },
        {
          "output_type": "stream",
          "name": "stdout",
          "text": [
            "\b\b\b\b\b\b\b\b\b\b\b\b\b\b\b\b\b\b\b\b\b\b\b\b\b\b\b\b\b\b\b\b\b\b\b\b\b\b\b\b\b\b\b\b\b\b\b\b\b\b\b\b\b\b\b\b\b\b\b\b\b\b\b\b\b\b\b\b\b\b\b\b\b\b\b\b\b\b\b\b\b\b\b\b\r313/313 [==============================] - 2s 6ms/step - loss: 0.4274 - accuracy: 0.8426 - val_loss: 0.9911 - val_accuracy: 0.7131\n",
            "Epoch 29/40\n",
            "306/313 [============================>.] - ETA: 0s - loss: 0.4078 - accuracy: 0.8495"
          ]
        },
        {
          "output_type": "stream",
          "name": "stderr",
          "text": [
            "WARNING:tensorflow:Can save best model only with val_acc available, skipping.\n"
          ]
        },
        {
          "output_type": "stream",
          "name": "stdout",
          "text": [
            "\b\b\b\b\b\b\b\b\b\b\b\b\b\b\b\b\b\b\b\b\b\b\b\b\b\b\b\b\b\b\b\b\b\b\b\b\b\b\b\b\b\b\b\b\b\b\b\b\b\b\b\b\b\b\b\b\b\b\b\b\b\b\b\b\b\b\b\b\b\b\b\b\b\b\b\b\b\b\b\b\b\b\b\b\r313/313 [==============================] - 2s 6ms/step - loss: 0.4088 - accuracy: 0.8491 - val_loss: 0.9775 - val_accuracy: 0.7014\n",
            "Epoch 30/40\n",
            "305/313 [============================>.] - ETA: 0s - loss: 0.3927 - accuracy: 0.8577"
          ]
        },
        {
          "output_type": "stream",
          "name": "stderr",
          "text": [
            "WARNING:tensorflow:Can save best model only with val_acc available, skipping.\n"
          ]
        },
        {
          "output_type": "stream",
          "name": "stdout",
          "text": [
            "\b\b\b\b\b\b\b\b\b\b\b\b\b\b\b\b\b\b\b\b\b\b\b\b\b\b\b\b\b\b\b\b\b\b\b\b\b\b\b\b\b\b\b\b\b\b\b\b\b\b\b\b\b\b\b\b\b\b\b\b\b\b\b\b\b\b\b\b\b\b\b\b\b\b\b\b\b\b\b\b\b\b\b\b\r313/313 [==============================] - 2s 6ms/step - loss: 0.3940 - accuracy: 0.8571 - val_loss: 0.9772 - val_accuracy: 0.7130\n",
            "Epoch 31/40\n",
            "309/313 [============================>.] - ETA: 0s - loss: 0.3777 - accuracy: 0.8621"
          ]
        },
        {
          "output_type": "stream",
          "name": "stderr",
          "text": [
            "WARNING:tensorflow:Can save best model only with val_acc available, skipping.\n"
          ]
        },
        {
          "output_type": "stream",
          "name": "stdout",
          "text": [
            "\b\b\b\b\b\b\b\b\b\b\b\b\b\b\b\b\b\b\b\b\b\b\b\b\b\b\b\b\b\b\b\b\b\b\b\b\b\b\b\b\b\b\b\b\b\b\b\b\b\b\b\b\b\b\b\b\b\b\b\b\b\b\b\b\b\b\b\b\b\b\b\b\b\b\b\b\b\b\b\b\b\b\b\b\r313/313 [==============================] - 2s 7ms/step - loss: 0.3779 - accuracy: 0.8620 - val_loss: 1.0213 - val_accuracy: 0.7108\n",
            "Epoch 32/40\n",
            "310/313 [============================>.] - ETA: 0s - loss: 0.3630 - accuracy: 0.8678"
          ]
        },
        {
          "output_type": "stream",
          "name": "stderr",
          "text": [
            "WARNING:tensorflow:Can save best model only with val_acc available, skipping.\n"
          ]
        },
        {
          "output_type": "stream",
          "name": "stdout",
          "text": [
            "\b\b\b\b\b\b\b\b\b\b\b\b\b\b\b\b\b\b\b\b\b\b\b\b\b\b\b\b\b\b\b\b\b\b\b\b\b\b\b\b\b\b\b\b\b\b\b\b\b\b\b\b\b\b\b\b\b\b\b\b\b\b\b\b\b\b\b\b\b\b\b\b\b\b\b\b\b\b\b\b\b\b\b\b\r313/313 [==============================] - 2s 6ms/step - loss: 0.3627 - accuracy: 0.8679 - val_loss: 1.0282 - val_accuracy: 0.7149\n",
            "Epoch 33/40\n",
            "305/313 [============================>.] - ETA: 0s - loss: 0.3423 - accuracy: 0.8729"
          ]
        },
        {
          "output_type": "stream",
          "name": "stderr",
          "text": [
            "WARNING:tensorflow:Can save best model only with val_acc available, skipping.\n"
          ]
        },
        {
          "output_type": "stream",
          "name": "stdout",
          "text": [
            "\b\b\b\b\b\b\b\b\b\b\b\b\b\b\b\b\b\b\b\b\b\b\b\b\b\b\b\b\b\b\b\b\b\b\b\b\b\b\b\b\b\b\b\b\b\b\b\b\b\b\b\b\b\b\b\b\b\b\b\b\b\b\b\b\b\b\b\b\b\b\b\b\b\b\b\b\b\b\b\b\b\b\b\b\r313/313 [==============================] - 2s 6ms/step - loss: 0.3428 - accuracy: 0.8728 - val_loss: 1.0942 - val_accuracy: 0.7092\n",
            "Epoch 34/40\n",
            "307/313 [============================>.] - ETA: 0s - loss: 0.3389 - accuracy: 0.8769"
          ]
        },
        {
          "output_type": "stream",
          "name": "stderr",
          "text": [
            "WARNING:tensorflow:Can save best model only with val_acc available, skipping.\n"
          ]
        },
        {
          "output_type": "stream",
          "name": "stdout",
          "text": [
            "\b\b\b\b\b\b\b\b\b\b\b\b\b\b\b\b\b\b\b\b\b\b\b\b\b\b\b\b\b\b\b\b\b\b\b\b\b\b\b\b\b\b\b\b\b\b\b\b\b\b\b\b\b\b\b\b\b\b\b\b\b\b\b\b\b\b\b\b\b\b\b\b\b\b\b\b\b\b\b\b\b\b\b\b\r313/313 [==============================] - 2s 6ms/step - loss: 0.3389 - accuracy: 0.8770 - val_loss: 1.0439 - val_accuracy: 0.7185\n",
            "Epoch 35/40\n",
            "305/313 [============================>.] - ETA: 0s - loss: 0.3311 - accuracy: 0.8769"
          ]
        },
        {
          "output_type": "stream",
          "name": "stderr",
          "text": [
            "WARNING:tensorflow:Can save best model only with val_acc available, skipping.\n"
          ]
        },
        {
          "output_type": "stream",
          "name": "stdout",
          "text": [
            "\b\b\b\b\b\b\b\b\b\b\b\b\b\b\b\b\b\b\b\b\b\b\b\b\b\b\b\b\b\b\b\b\b\b\b\b\b\b\b\b\b\b\b\b\b\b\b\b\b\b\b\b\b\b\b\b\b\b\b\b\b\b\b\b\b\b\b\b\b\b\b\b\b\b\b\b\b\b\b\b\b\b\b\b\r313/313 [==============================] - 2s 6ms/step - loss: 0.3308 - accuracy: 0.8770 - val_loss: 1.1099 - val_accuracy: 0.7073\n",
            "Epoch 36/40\n",
            "313/313 [==============================] - ETA: 0s - loss: 0.3185 - accuracy: 0.8814"
          ]
        },
        {
          "output_type": "stream",
          "name": "stderr",
          "text": [
            "WARNING:tensorflow:Can save best model only with val_acc available, skipping.\n"
          ]
        },
        {
          "output_type": "stream",
          "name": "stdout",
          "text": [
            "\b\b\b\b\b\b\b\b\b\b\b\b\b\b\b\b\b\b\b\b\b\b\b\b\b\b\b\b\b\b\b\b\b\b\b\b\b\b\b\b\b\b\b\b\b\b\b\b\b\b\b\b\b\b\b\b\b\b\b\b\b\b\b\b\b\b\b\b\b\b\b\b\b\b\b\b\b\b\b\b\b\b\b\b\r313/313 [==============================] - 2s 6ms/step - loss: 0.3185 - accuracy: 0.8814 - val_loss: 1.0929 - val_accuracy: 0.7148\n",
            "Epoch 37/40\n",
            "313/313 [==============================] - ETA: 0s - loss: 0.3098 - accuracy: 0.8850"
          ]
        },
        {
          "output_type": "stream",
          "name": "stderr",
          "text": [
            "WARNING:tensorflow:Can save best model only with val_acc available, skipping.\n"
          ]
        },
        {
          "output_type": "stream",
          "name": "stdout",
          "text": [
            "\b\b\b\b\b\b\b\b\b\b\b\b\b\b\b\b\b\b\b\b\b\b\b\b\b\b\b\b\b\b\b\b\b\b\b\b\b\b\b\b\b\b\b\b\b\b\b\b\b\b\b\b\b\b\b\b\b\b\b\b\b\b\b\b\b\b\b\b\b\b\b\b\b\b\b\b\b\b\b\b\b\b\b\b\r313/313 [==============================] - 2s 7ms/step - loss: 0.3098 - accuracy: 0.8850 - val_loss: 1.0882 - val_accuracy: 0.7116\n",
            "Epoch 38/40\n",
            "312/313 [============================>.] - ETA: 0s - loss: 0.2995 - accuracy: 0.8898"
          ]
        },
        {
          "output_type": "stream",
          "name": "stderr",
          "text": [
            "WARNING:tensorflow:Can save best model only with val_acc available, skipping.\n"
          ]
        },
        {
          "output_type": "stream",
          "name": "stdout",
          "text": [
            "\b\b\b\b\b\b\b\b\b\b\b\b\b\b\b\b\b\b\b\b\b\b\b\b\b\b\b\b\b\b\b\b\b\b\b\b\b\b\b\b\b\b\b\b\b\b\b\b\b\b\b\b\b\b\b\b\b\b\b\b\b\b\b\b\b\b\b\b\b\b\b\b\b\b\b\b\b\b\b\b\b\b\b\b\r313/313 [==============================] - 2s 7ms/step - loss: 0.2997 - accuracy: 0.8898 - val_loss: 1.0881 - val_accuracy: 0.7143\n",
            "Epoch 39/40\n",
            "306/313 [============================>.] - ETA: 0s - loss: 0.2883 - accuracy: 0.8937"
          ]
        },
        {
          "output_type": "stream",
          "name": "stderr",
          "text": [
            "WARNING:tensorflow:Can save best model only with val_acc available, skipping.\n"
          ]
        },
        {
          "output_type": "stream",
          "name": "stdout",
          "text": [
            "\b\b\b\b\b\b\b\b\b\b\b\b\b\b\b\b\b\b\b\b\b\b\b\b\b\b\b\b\b\b\b\b\b\b\b\b\b\b\b\b\b\b\b\b\b\b\b\b\b\b\b\b\b\b\b\b\b\b\b\b\b\b\b\b\b\b\b\b\b\b\b\b\b\b\b\b\b\b\b\b\b\b\b\b\r313/313 [==============================] - 2s 6ms/step - loss: 0.2882 - accuracy: 0.8935 - val_loss: 1.1529 - val_accuracy: 0.7157\n",
            "Epoch 40/40\n",
            "306/313 [============================>.] - ETA: 0s - loss: 0.2814 - accuracy: 0.8939"
          ]
        },
        {
          "output_type": "stream",
          "name": "stderr",
          "text": [
            "WARNING:tensorflow:Can save best model only with val_acc available, skipping.\n"
          ]
        },
        {
          "output_type": "stream",
          "name": "stdout",
          "text": [
            "\b\b\b\b\b\b\b\b\b\b\b\b\b\b\b\b\b\b\b\b\b\b\b\b\b\b\b\b\b\b\b\b\b\b\b\b\b\b\b\b\b\b\b\b\b\b\b\b\b\b\b\b\b\b\b\b\b\b\b\b\b\b\b\b\b\b\b\b\b\b\b\b\b\b\b\b\b\b\b\b\b\b\b\b\r313/313 [==============================] - 2s 6ms/step - loss: 0.2811 - accuracy: 0.8941 - val_loss: 1.1569 - val_accuracy: 0.7121\n"
          ]
        },
        {
          "output_type": "execute_result",
          "data": {
            "text/plain": [
              "<keras.src.callbacks.History at 0x7e542310b2b0>"
            ]
          },
          "metadata": {},
          "execution_count": 4
        }
      ]
    },
    {
      "cell_type": "code",
      "metadata": {
        "id": "ivHJ880q7xhy",
        "colab": {
          "base_uri": "https://localhost:8080/"
        },
        "outputId": "4cf27a53-57be-4bc6-dcb9-1d498527cf95"
      },
      "source": [
        "# Retrieve best model from saved\n",
        "#Teacher = load_model('teacher.h5')\n",
        "\n",
        "# Evaluation with test set\n",
        "Teacher.evaluate(x_test,y_test)"
      ],
      "execution_count": null,
      "outputs": [
        {
          "output_type": "stream",
          "name": "stdout",
          "text": [
            "313/313 [==============================] - 1s 2ms/step - loss: 1.1592 - accuracy: 0.7080\n"
          ]
        },
        {
          "output_type": "execute_result",
          "data": {
            "text/plain": [
              "[1.1591572761535645, 0.7080000042915344]"
            ]
          },
          "metadata": {},
          "execution_count": 5
        }
      ]
    },
    {
      "cell_type": "markdown",
      "metadata": {
        "id": "ppnopnPM6DE1"
      },
      "source": [
        "# Understand temperature"
      ]
    },
    {
      "cell_type": "code",
      "metadata": {
        "id": "IgGxH0YOBGLm",
        "outputId": "663a6944-382b-4d53-bf8e-7a8e1a9a53dd",
        "colab": {
          "base_uri": "https://localhost:8080/",
          "height": 1000
        }
      },
      "source": [
        "Teacher_logits = Model(Teacher.input,Teacher.layers[-2].output)\n",
        "\n",
        "logits_plot = []\n",
        "\n",
        "class_names = [\"airplane\",\"automobile\",\"bird\",\"cat\",\"deer\",\"dog\",\"frog\",\"horse\",\"ship\",\"truck\"]\n",
        "\n",
        "\n",
        "# Choose the item to visualize temperature\n",
        "item_idx = 7\n",
        "\n",
        "item_image = x_train[item_idx]\n",
        "\n",
        "plt.imshow(item_image)\n",
        "\n",
        "Temperatures = [1,5,10,20,35,50]\n",
        "\n",
        "\n",
        "for Temperature in Temperatures:\n",
        "  # Create temperature layer that produces logits with temperature\n",
        "  T_layer = Lambda(lambda x:x/Temperature)(Teacher_logits.output)\n",
        "\n",
        "  # Create a softmax layer\n",
        "  Softmax_layer = Softmax()(T_layer)\n",
        "  # Add the teacher T_layer to the whole model\n",
        "  Teacher_logits_soften = Model(Teacher.input,Softmax_layer)\n",
        "\n",
        "  # Append for plotting\n",
        "  logits_plot.append(Teacher_logits_soften.predict(np.array([item_image])))\n",
        "\n",
        "  plt.figure(figsize=(14, 6))\n",
        "for i in range(len(Temperatures)):\n",
        "  plt.plot(class_names,logits_plot[i][0])\n",
        "  plt.legend(['Temperatures'])\n",
        "  plt.title('This is a '+ class_names[y_train[item_idx][0]])\n",
        "  plt.legend(Temperatures,title=\"Temperatures\")"
      ],
      "execution_count": null,
      "outputs": [
        {
          "output_type": "stream",
          "name": "stdout",
          "text": [
            "1/1 [==============================] - 0s 209ms/step\n",
            "1/1 [==============================] - 0s 65ms/step\n",
            "1/1 [==============================] - 0s 68ms/step\n",
            "1/1 [==============================] - 0s 80ms/step\n"
          ]
        },
        {
          "output_type": "stream",
          "name": "stderr",
          "text": [
            "WARNING:tensorflow:5 out of the last 5 calls to <function Model.make_predict_function.<locals>.predict_function at 0x7e54086791b0> triggered tf.function retracing. Tracing is expensive and the excessive number of tracings could be due to (1) creating @tf.function repeatedly in a loop, (2) passing tensors with different shapes, (3) passing Python objects instead of tensors. For (1), please define your @tf.function outside of the loop. For (2), @tf.function has reduce_retracing=True option that can avoid unnecessary retracing. For (3), please refer to https://www.tensorflow.org/guide/function#controlling_retracing and https://www.tensorflow.org/api_docs/python/tf/function for  more details.\n"
          ]
        },
        {
          "output_type": "stream",
          "name": "stdout",
          "text": [
            "1/1 [==============================] - 0s 73ms/step\n"
          ]
        },
        {
          "output_type": "stream",
          "name": "stderr",
          "text": [
            "WARNING:tensorflow:6 out of the last 6 calls to <function Model.make_predict_function.<locals>.predict_function at 0x7e540867a0e0> triggered tf.function retracing. Tracing is expensive and the excessive number of tracings could be due to (1) creating @tf.function repeatedly in a loop, (2) passing tensors with different shapes, (3) passing Python objects instead of tensors. For (1), please define your @tf.function outside of the loop. For (2), @tf.function has reduce_retracing=True option that can avoid unnecessary retracing. For (3), please refer to https://www.tensorflow.org/guide/function#controlling_retracing and https://www.tensorflow.org/api_docs/python/tf/function for  more details.\n"
          ]
        },
        {
          "output_type": "stream",
          "name": "stdout",
          "text": [
            "1/1 [==============================] - 0s 71ms/step\n"
          ]
        },
        {
          "output_type": "display_data",
          "data": {
            "text/plain": [
              "<Figure size 640x480 with 1 Axes>"
            ],
            "image/png": "[encoded data removed]"
          },
          "metadata": {}
        },
        {
          "output_type": "display_data",
          "data": {
            "text/plain": [
              "<Figure size 1400x600 with 0 Axes>"
            ]
          },
          "metadata": {}
        },
        {
          "output_type": "display_data",
          "data": {
            "text/plain": [
              "<Figure size 1400x600 with 0 Axes>"
            ]
          },
          "metadata": {}
        },
        {
          "output_type": "display_data",
          "data": {
            "text/plain": [
              "<Figure size 1400x600 with 0 Axes>"
            ]
          },
          "metadata": {}
        },
        {
          "output_type": "display_data",
          "data": {
            "text/plain": [
              "<Figure size 1400x600 with 0 Axes>"
            ]
          },
          "metadata": {}
        },
        {
          "output_type": "display_data",
          "data": {
            "text/plain": [
              "<Figure size 1400x600 with 0 Axes>"
            ]
          },
          "metadata": {}
        },
        {
          "output_type": "display_data",
          "data": {
            "text/plain": [
              "<Figure size 1400x600 with 1 Axes>"
            ],
            "image/png": "[encoded data removed]"
          },
          "metadata": {}
        }
      ]
    },
    {
      "cell_type": "markdown",
      "metadata": {
        "id": "VC7j3YBUWe_2"
      },
      "source": [
        "# Create a teacher model that create softened output\n",
        "As mentioned in **Hinton's paper**:  \"When the distilled net had 300 or more units in each of its two hidden layers, all temperatures above gave fairly similar results. But when this was radically reduced to 30 units per layer, temperatures in the range 2.5 to 4 worked significantly better than high or lower temperatures.\"  \n",
        "In this notebook, I'll use temperature **3.25**, feel free to change to the Temperature to any number of your interest."
      ]
    },
    {
      "cell_type": "code",
      "metadata": {
        "id": "RG0cEG8GRZm0"
      },
      "source": [
        "Temperature = 3.25\n",
        "T_layer = Lambda(lambda x:x/Temperature)(Teacher_logits.output)\n",
        "Softmax_layer = Activation('softmax')(T_layer)\n",
        "Teacher_soften = Model(Teacher.input,Softmax_layer)"
      ],
      "execution_count": null,
      "outputs": []
    },
    {
      "cell_type": "code",
      "metadata": {
        "id": "5eS3Z8rBWY3a",
        "colab": {
          "base_uri": "https://localhost:8080/"
        },
        "outputId": "f30f18ab-480d-4aed-8a4f-8d8bf8b818d3"
      },
      "source": [
        "# Predict and convert to sparse categorical matrix\n",
        "y_train_new = Teacher_soften.predict(x_train)\n",
        "y_test_new = Teacher_soften.predict(x_test)\n",
        "\n",
        "y_train_new = np.c_[to_categorical(y_train),y_train_new]\n",
        "y_test_new = np.c_[to_categorical(y_test),y_test_new]"
      ],
      "execution_count": null,
      "outputs": [
        {
          "output_type": "stream",
          "name": "stdout",
          "text": [
            "1563/1563 [==============================] - 3s 2ms/step\n",
            "313/313 [==============================] - 1s 2ms/step\n"
          ]
        }
      ]
    },
    {
      "cell_type": "markdown",
      "metadata": {
        "id": "C0wHj1lobBaa"
      },
      "source": [
        "# Create a student model that produces with and without soften output"
      ]
    },
    {
      "cell_type": "markdown",
      "metadata": {
        "id": "sgDCsYaxC0Zv"
      },
      "source": [
        "The student model we'll in this notebook is a really shallow neural network with only 1 hidden layers with 64 units, followed by a 10 softmax unit for the output"
      ]
    },
    {
      "cell_type": "code",
      "metadata": {
        "id": "cCOh7PFP6fPV",
        "outputId": "9177f306-7b18-4a80-dded-42cc9151946c",
        "colab": {
          "base_uri": "https://localhost:8080/"
        }
      },
      "source": [
        "Student = Sequential() #a Must define the input shape in the first layer of the neural network\n",
        "Student.add(Flatten(input_shape=(32,32,3)))\n",
        "Student.add(Dense(64, activation='relu'))\n",
        "Student.add(Dense(10))\n",
        "Student.summary()"
      ],
      "execution_count": null,
      "outputs": [
        {
          "output_type": "stream",
          "name": "stdout",
          "text": [
            "Model: \"sequential_1\"\n",
            "_________________________________________________________________\n",
            " Layer (type)                Output Shape              Param #   \n",
            "=================================================================\n",
            " flatten_1 (Flatten)         (None, 3072)              0         \n",
            "                                                                 \n",
            " dense_2 (Dense)             (None, 64)                196672    \n",
            "                                                                 \n",
            " dense_3 (Dense)             (None, 10)                650       \n",
            "                                                                 \n",
            "=================================================================\n",
            "Total params: 197322 (770.79 KB)\n",
            "Trainable params: 197322 (770.79 KB)\n",
            "Non-trainable params: 0 (0.00 Byte)\n",
            "_________________________________________________________________\n"
          ]
        }
      ]
    },
    {
      "cell_type": "code",
      "metadata": {
        "id": "2ic-g-z1ODuY"
      },
      "source": [
        "student_logits = Student.layers[-1].output\n",
        "\n",
        "# Compute softmax\n",
        "probs = Activation(\"softmax\")(student_logits)\n",
        "\n",
        "# Compute softmax with softened logits\n",
        "logits_T = Lambda(lambda x:x/Temperature)(student_logits)\n",
        "probs_T = Activation(\"softmax\")(logits_T)\n",
        "\n",
        "CombinedLayers = concatenate([probs,probs_T])\n",
        "\n",
        "StudentModel = Model(Student.input,CombinedLayers)"
      ],
      "execution_count": null,
      "outputs": []
    },
    {
      "cell_type": "markdown",
      "metadata": {
        "id": "Bs3G-pvGOOFE"
      },
      "source": [
        "<center><img src=\"https://nervanasystems.github.io/distiller/imgs/knowledge_distillation.png\" width=500></center>\n",
        "<center>"
      ]
    },
    {
      "cell_type": "markdown",
      "metadata": {
        "id": "kpXESRefDGtb"
      },
      "source": [
        "$$ \\text{Let } a_{t}  \\text{ and } a_{s} \\text{ be the logits (the inputs to the final softmax) of the teacher and student network, respectively, with the ground-truth label } y_{r} .\\text{ We calculate the cross-entropy between the softmax} (a_{s},y_{r}) \\text{ and } y_{r} \\text{ as follow:}$$\n",
        "$$ \\mathcal{L}_{SL}=\\mathcal{H}(\\text{softmax}(a_{s},y_{r})) $$\n",
        "\n",
        "$$ \\text{In knowledge distillation (in all 3 papers), we tries to match the softened outputs of the student } y_{s} = \\text{softmax}(a_{s}/\\mathcal{T})   \\text{ and teacher's softened outputs }  y_{t}=\\text{softmax}(a_{t}/\\mathcal{T}) \\text{via a KL-divergence loss}$$\n",
        "$$\\mathcal{L}_{KD}=\\mathcal{T}^2\\text{KL}(y_{s},y_{t})$$\n",
        "$$ \\text{The student model will then be trained on a \"combined\" loss between } \\mathcal{L}_{SL} \\text{ and } \\mathcal{L}_{KD} \\text{ with } \\lambda \\text{ representing the trade off of 2 losses }$$\n",
        "$$\\mathcal{L}_{\\text{student}} = \\lambda\\mathcal{L}_{SL} + (1-\\lambda)\\mathcal{L}_{KD}$$"
      ]
    },
    {
      "cell_type": "code",
      "metadata": {
        "id": "n2-QsDZ5jtA8"
      },
      "source": [
        "def KD_loss(y_true,y_pred,lambd=0.5,T=10.0):\n",
        "  y_true,y_true_KD = y_true[:,:NUM_CLASSES],y_true[:,NUM_CLASSES:]\n",
        "  y_pred,y_pred_KD = y_pred[:,:NUM_CLASSES],y_pred[:,NUM_CLASSES:]\n",
        "  # Classic cross-entropy (without temperature)\n",
        "  CE_loss = logloss(y_true,y_pred)\n",
        "  # KL-Divergence loss for softened output (with temperature)\n",
        "  KL_loss = T**2*KLD_Loss(y_true_KD,y_pred_KD)\n",
        "\n",
        "  return lambd*CE_loss + (1-lambd)*KL_loss\n",
        "\n",
        "def accuracy(y_true,y_pred):\n",
        "  return categorical_accuracy(y_true,y_pred)\n"
      ],
      "execution_count": null,
      "outputs": []
    },
    {
      "cell_type": "code",
      "metadata": {
        "id": "0pbswIyRhYUG"
      },
      "source": [
        "StudentModel.compile(optimizer='adam',loss=lambda y_true,y_pred: KD_loss(y_true, y_pred,lambd=0.5,T=Temperature),metrics=[accuracy])"
      ],
      "execution_count": null,
      "outputs": []
    },
    {
      "cell_type": "code",
      "metadata": {
        "id": "am0Ufoz6jc3-",
        "outputId": "92510fff-7d57-4a07-99c4-b6455345a97e",
        "colab": {
          "base_uri": "https://localhost:8080/"
        }
      },
      "source": [
        "myCP = ModelCheckpoint(save_best_only=True,filepath='student.h5',monitor = 'val_accuracy')\n",
        "\n",
        "StudentModel.fit(x_train,y_train_new,epochs=50,validation_split=0.15,batch_size=128,callbacks=[myCP])"
      ],
      "execution_count": null,
      "outputs": [
        {
          "output_type": "stream",
          "name": "stdout",
          "text": [
            "Epoch 1/50\n",
            "333/333 [==============================] - 6s 6ms/step - loss: 6.4183 - accuracy: 0.3095 - val_loss: 5.4444 - val_accuracy: 0.3308\n",
            "Epoch 2/50\n",
            " 21/333 [>.............................] - ETA: 1s - loss: 6.0006 - accuracy: 0.3486"
          ]
        },
        {
          "output_type": "stream",
          "name": "stderr",
          "text": [
            "/usr/local/lib/python3.10/dist-packages/keras/src/engine/training.py:3103: UserWarning: You are saving your model as an HDF5 file via `model.save()`. This file format is considered legacy. We recommend using instead the native Keras format, e.g. `model.save('my_model.keras')`.\n",
            "  saving_api.save_model(\n"
          ]
        },
        {
          "output_type": "stream",
          "name": "stdout",
          "text": [
            "333/333 [==============================] - 2s 6ms/step - loss: 5.7630 - accuracy: 0.3725 - val_loss: 5.4029 - val_accuracy: 0.3483\n",
            "Epoch 3/50\n",
            "333/333 [==============================] - 1s 4ms/step - loss: 5.5322 - accuracy: 0.3914 - val_loss: 5.3105 - val_accuracy: 0.3535\n",
            "Epoch 4/50\n",
            "333/333 [==============================] - 1s 4ms/step - loss: 5.3857 - accuracy: 0.4027 - val_loss: 4.9488 - val_accuracy: 0.3885\n",
            "Epoch 5/50\n",
            "333/333 [==============================] - 1s 4ms/step - loss: 5.2441 - accuracy: 0.4133 - val_loss: 4.7603 - val_accuracy: 0.4000\n",
            "Epoch 6/50\n",
            "333/333 [==============================] - 1s 4ms/step - loss: 5.1261 - accuracy: 0.4222 - val_loss: 4.7098 - val_accuracy: 0.4048\n",
            "Epoch 7/50\n",
            "333/333 [==============================] - 1s 4ms/step - loss: 5.0265 - accuracy: 0.4312 - val_loss: 4.7293 - val_accuracy: 0.3955\n",
            "Epoch 8/50\n",
            "333/333 [==============================] - 1s 4ms/step - loss: 4.9397 - accuracy: 0.4362 - val_loss: 4.4418 - val_accuracy: 0.4248\n",
            "Epoch 9/50\n",
            "333/333 [==============================] - 2s 5ms/step - loss: 4.8511 - accuracy: 0.4450 - val_loss: 4.7444 - val_accuracy: 0.4035\n",
            "Epoch 10/50\n",
            "333/333 [==============================] - 2s 6ms/step - loss: 4.7949 - accuracy: 0.4472 - val_loss: 4.6463 - val_accuracy: 0.4020\n",
            "Epoch 11/50\n",
            "333/333 [==============================] - 1s 4ms/step - loss: 4.7435 - accuracy: 0.4524 - val_loss: 4.2897 - val_accuracy: 0.4417\n",
            "Epoch 12/50\n",
            "333/333 [==============================] - 1s 4ms/step - loss: 4.6594 - accuracy: 0.4597 - val_loss: 4.7029 - val_accuracy: 0.4087\n",
            "Epoch 13/50\n",
            "333/333 [==============================] - 1s 4ms/step - loss: 4.6169 - accuracy: 0.4629 - val_loss: 4.3282 - val_accuracy: 0.4313\n",
            "Epoch 14/50\n",
            "333/333 [==============================] - 1s 4ms/step - loss: 4.5591 - accuracy: 0.4628 - val_loss: 4.4706 - val_accuracy: 0.4215\n",
            "Epoch 15/50\n",
            "333/333 [==============================] - 1s 4ms/step - loss: 4.5280 - accuracy: 0.4673 - val_loss: 4.2427 - val_accuracy: 0.4404\n",
            "Epoch 16/50\n",
            "333/333 [==============================] - 1s 4ms/step - loss: 4.4919 - accuracy: 0.4705 - val_loss: 4.2306 - val_accuracy: 0.4452\n",
            "Epoch 17/50\n",
            "333/333 [==============================] - 2s 6ms/step - loss: 4.4536 - accuracy: 0.4738 - val_loss: 4.2252 - val_accuracy: 0.4397\n",
            "Epoch 18/50\n",
            "333/333 [==============================] - 2s 5ms/step - loss: 4.4036 - accuracy: 0.4796 - val_loss: 4.5857 - val_accuracy: 0.4235\n",
            "Epoch 19/50\n",
            "333/333 [==============================] - 1s 4ms/step - loss: 4.4024 - accuracy: 0.4787 - val_loss: 4.4760 - val_accuracy: 0.4192\n",
            "Epoch 20/50\n",
            "333/333 [==============================] - 2s 5ms/step - loss: 4.4177 - accuracy: 0.4778 - val_loss: 4.2331 - val_accuracy: 0.4376\n",
            "Epoch 21/50\n",
            "333/333 [==============================] - 2s 6ms/step - loss: 4.3653 - accuracy: 0.4804 - val_loss: 4.1014 - val_accuracy: 0.4565\n",
            "Epoch 22/50\n",
            "333/333 [==============================] - 1s 4ms/step - loss: 4.3284 - accuracy: 0.4856 - val_loss: 4.3635 - val_accuracy: 0.4217\n",
            "Epoch 23/50\n",
            "333/333 [==============================] - 1s 4ms/step - loss: 4.3395 - accuracy: 0.4836 - val_loss: 4.1286 - val_accuracy: 0.4455\n",
            "Epoch 24/50\n",
            "333/333 [==============================] - 3s 8ms/step - loss: 4.2832 - accuracy: 0.4854 - val_loss: 4.1139 - val_accuracy: 0.4483\n",
            "Epoch 25/50\n",
            "333/333 [==============================] - 2s 5ms/step - loss: 4.2780 - accuracy: 0.4880 - val_loss: 4.1133 - val_accuracy: 0.4563\n",
            "Epoch 26/50\n",
            "333/333 [==============================] - 1s 4ms/step - loss: 4.2498 - accuracy: 0.4897 - val_loss: 4.9541 - val_accuracy: 0.3988\n",
            "Epoch 27/50\n",
            "333/333 [==============================] - 1s 4ms/step - loss: 4.2593 - accuracy: 0.4935 - val_loss: 3.9529 - val_accuracy: 0.4684\n",
            "Epoch 28/50\n",
            "333/333 [==============================] - 1s 4ms/step - loss: 4.2068 - accuracy: 0.4932 - val_loss: 4.0116 - val_accuracy: 0.4581\n",
            "Epoch 29/50\n",
            "333/333 [==============================] - 1s 4ms/step - loss: 4.2103 - accuracy: 0.4954 - val_loss: 3.9439 - val_accuracy: 0.4576\n",
            "Epoch 30/50\n",
            "333/333 [==============================] - 2s 5ms/step - loss: 4.1684 - accuracy: 0.4989 - val_loss: 4.0377 - val_accuracy: 0.4515\n",
            "Epoch 31/50\n",
            "333/333 [==============================] - 2s 5ms/step - loss: 4.1728 - accuracy: 0.4946 - val_loss: 4.1029 - val_accuracy: 0.4448\n",
            "Epoch 32/50\n",
            "333/333 [==============================] - 2s 7ms/step - loss: 4.1503 - accuracy: 0.4984 - val_loss: 4.4339 - val_accuracy: 0.4352\n",
            "Epoch 33/50\n",
            "333/333 [==============================] - 1s 4ms/step - loss: 4.1781 - accuracy: 0.4948 - val_loss: 4.1649 - val_accuracy: 0.4479\n",
            "Epoch 34/50\n",
            "333/333 [==============================] - 1s 4ms/step - loss: 4.1152 - accuracy: 0.4996 - val_loss: 3.9443 - val_accuracy: 0.4672\n",
            "Epoch 35/50\n",
            "333/333 [==============================] - 1s 4ms/step - loss: 4.1235 - accuracy: 0.4981 - val_loss: 4.2940 - val_accuracy: 0.4459\n",
            "Epoch 36/50\n",
            "333/333 [==============================] - 1s 4ms/step - loss: 4.1360 - accuracy: 0.5006 - val_loss: 4.0078 - val_accuracy: 0.4633\n",
            "Epoch 37/50\n",
            "333/333 [==============================] - 1s 4ms/step - loss: 4.0951 - accuracy: 0.4999 - val_loss: 3.9936 - val_accuracy: 0.4648\n",
            "Epoch 38/50\n",
            "333/333 [==============================] - 1s 4ms/step - loss: 4.1004 - accuracy: 0.5038 - val_loss: 4.1778 - val_accuracy: 0.4361\n",
            "Epoch 39/50\n",
            "333/333 [==============================] - 2s 5ms/step - loss: 4.0728 - accuracy: 0.5057 - val_loss: 4.1876 - val_accuracy: 0.4551\n",
            "Epoch 40/50\n",
            "333/333 [==============================] - 2s 6ms/step - loss: 4.0448 - accuracy: 0.5067 - val_loss: 4.0901 - val_accuracy: 0.4584\n",
            "Epoch 41/50\n",
            "333/333 [==============================] - 1s 4ms/step - loss: 4.0522 - accuracy: 0.5048 - val_loss: 4.3325 - val_accuracy: 0.4455\n",
            "Epoch 42/50\n",
            "333/333 [==============================] - 1s 4ms/step - loss: 4.0503 - accuracy: 0.5058 - val_loss: 4.0824 - val_accuracy: 0.4551\n",
            "Epoch 43/50\n",
            "333/333 [==============================] - 1s 4ms/step - loss: 4.0385 - accuracy: 0.5066 - val_loss: 4.2141 - val_accuracy: 0.4299\n",
            "Epoch 44/50\n",
            "333/333 [==============================] - 1s 4ms/step - loss: 4.0357 - accuracy: 0.5068 - val_loss: 3.9649 - val_accuracy: 0.4632\n",
            "Epoch 45/50\n",
            "333/333 [==============================] - 1s 4ms/step - loss: 4.0311 - accuracy: 0.5079 - val_loss: 3.9498 - val_accuracy: 0.4653\n",
            "Epoch 46/50\n",
            "333/333 [==============================] - 1s 4ms/step - loss: 4.0326 - accuracy: 0.5081 - val_loss: 4.2330 - val_accuracy: 0.4465\n",
            "Epoch 47/50\n",
            "333/333 [==============================] - 2s 5ms/step - loss: 3.9993 - accuracy: 0.5132 - val_loss: 4.1158 - val_accuracy: 0.4443\n",
            "Epoch 48/50\n",
            "333/333 [==============================] - 2s 5ms/step - loss: 3.9749 - accuracy: 0.5136 - val_loss: 3.8933 - val_accuracy: 0.4712\n",
            "Epoch 49/50\n",
            "333/333 [==============================] - 2s 5ms/step - loss: 3.9972 - accuracy: 0.5128 - val_loss: 3.9094 - val_accuracy: 0.4727\n",
            "Epoch 50/50\n",
            "333/333 [==============================] - 2s 5ms/step - loss: 3.9672 - accuracy: 0.5106 - val_loss: 3.9965 - val_accuracy: 0.4611\n"
          ]
        },
        {
          "output_type": "execute_result",
          "data": {
            "text/plain": [
              "<keras.src.callbacks.History at 0x7e54084b4df0>"
            ]
          },
          "metadata": {},
          "execution_count": 13
        }
      ]
    },
    {
      "cell_type": "code",
      "metadata": {
        "id": "-QujVzs7rRxN",
        "outputId": "fb8a918a-b2bb-4305-ecbd-e14aa45a6677",
        "colab": {
          "base_uri": "https://localhost:8080/"
        }
      },
      "source": [
        "StudentModel.load_weights('student.h5')\n",
        "StudentModel.evaluate(x_train,y_train_new)\n"
      ],
      "execution_count": null,
      "outputs": [
        {
          "output_type": "stream",
          "name": "stdout",
          "text": [
            "1563/1563 [==============================] - 4s 3ms/step - loss: 3.9403 - accuracy: 0.5098\n"
          ]
        },
        {
          "output_type": "execute_result",
          "data": {
            "text/plain": [
              "[3.940308094024658, 0.5098000168800354]"
            ]
          },
          "metadata": {},
          "execution_count": 14
        }
      ]
    },
    {
      "cell_type": "markdown",
      "metadata": {
        "id": "1k5LsqTWzh56"
      },
      "source": [
        "# Create a standalone student"
      ]
    },
    {
      "cell_type": "code",
      "metadata": {
        "id": "vfInFTnqr6Yg",
        "outputId": "2852d739-6213-4ccb-de05-9d2bc1dac8ee",
        "colab": {
          "base_uri": "https://localhost:8080/"
        }
      },
      "source": [
        "AloneModel = Sequential() #a Must define the input shape in the first layer of the neural netAloneStudent = Sequential() #a Must define the input shape in the first layer of the neural network\n",
        "AloneModel.add(Flatten(input_shape=(32,32,3)))\n",
        "AloneModel.add(Dense(64, activation='relu'))\n",
        "AloneModel.add(Dense(10,activation=\"softmax\"))\n",
        "AloneModel.summary()"
      ],
      "execution_count": null,
      "outputs": [
        {
          "output_type": "stream",
          "name": "stdout",
          "text": [
            "Model: \"sequential_2\"\n",
            "_________________________________________________________________\n",
            " Layer (type)                Output Shape              Param #   \n",
            "=================================================================\n",
            " flatten_2 (Flatten)         (None, 3072)              0         \n",
            "                                                                 \n",
            " dense_4 (Dense)             (None, 64)                196672    \n",
            "                                                                 \n",
            " dense_5 (Dense)             (None, 10)                650       \n",
            "                                                                 \n",
            "=================================================================\n",
            "Total params: 197322 (770.79 KB)\n",
            "Trainable params: 197322 (770.79 KB)\n",
            "Non-trainable params: 0 (0.00 Byte)\n",
            "_________________________________________________________________\n"
          ]
        }
      ]
    },
    {
      "cell_type": "code",
      "metadata": {
        "id": "N9rxNJ9AzkVj",
        "outputId": "9d61aa21-cc38-4f2c-f34d-f9386faa99ab",
        "colab": {
          "base_uri": "https://localhost:8080/"
        }
      },
      "source": [
        "AloneModel.compile(optimizer='adam',loss='sparse_categorical_crossentropy',metrics=['accuracy'])\n",
        "\n",
        "myCP = ModelCheckpoint(_best_only=True,filepath='alone.h5',monitor = 'val_acc')\n",
        "\n",
        "AloneModel.fit(x_train,y_train,epochs=50,validation_split=0.15,batch_size=128,callbacks=[myCP])\n"
      ],
      "execution_count": null,
      "outputs": [
        {
          "output_type": "stream",
          "name": "stdout",
          "text": [
            "Epoch 1/50\n",
            "333/333 [==============================] - 2s 5ms/step - loss: 1.9801 - accuracy: 0.2818 - val_loss: 1.8761 - val_accuracy: 0.3273\n",
            "Epoch 2/50\n",
            "333/333 [==============================] - 1s 3ms/step - loss: 1.8161 - accuracy: 0.3543 - val_loss: 1.8054 - val_accuracy: 0.3553\n",
            "Epoch 3/50\n",
            "333/333 [==============================] - 1s 3ms/step - loss: 1.7699 - accuracy: 0.3722 - val_loss: 1.8051 - val_accuracy: 0.3548\n",
            "Epoch 4/50\n",
            "333/333 [==============================] - 1s 3ms/step - loss: 1.7333 - accuracy: 0.3851 - val_loss: 1.7487 - val_accuracy: 0.3871\n",
            "Epoch 5/50\n",
            "333/333 [==============================] - 1s 3ms/step - loss: 1.7156 - accuracy: 0.3896 - val_loss: 1.7422 - val_accuracy: 0.3745\n",
            "Epoch 6/50\n",
            "333/333 [==============================] - 1s 4ms/step - loss: 1.6955 - accuracy: 0.3982 - val_loss: 1.7200 - val_accuracy: 0.3920\n",
            "Epoch 7/50\n",
            "333/333 [==============================] - 2s 5ms/step - loss: 1.6754 - accuracy: 0.4069 - val_loss: 1.7349 - val_accuracy: 0.3816\n",
            "Epoch 8/50\n",
            "333/333 [==============================] - 1s 3ms/step - loss: 1.6654 - accuracy: 0.4115 - val_loss: 1.7712 - val_accuracy: 0.3637\n",
            "Epoch 9/50\n",
            "333/333 [==============================] - 1s 4ms/step - loss: 1.6574 - accuracy: 0.4112 - val_loss: 1.6960 - val_accuracy: 0.3973\n",
            "Epoch 10/50\n",
            "333/333 [==============================] - 1s 3ms/step - loss: 1.6496 - accuracy: 0.4168 - val_loss: 1.7285 - val_accuracy: 0.3828\n",
            "Epoch 11/50\n",
            "333/333 [==============================] - 1s 4ms/step - loss: 1.6367 - accuracy: 0.4204 - val_loss: 1.7299 - val_accuracy: 0.3801\n",
            "Epoch 12/50\n",
            "333/333 [==============================] - 1s 4ms/step - loss: 1.6352 - accuracy: 0.4221 - val_loss: 1.6878 - val_accuracy: 0.3939\n",
            "Epoch 13/50\n",
            "333/333 [==============================] - 1s 3ms/step - loss: 1.6292 - accuracy: 0.4228 - val_loss: 1.6726 - val_accuracy: 0.4061\n",
            "Epoch 14/50\n",
            "333/333 [==============================] - 1s 3ms/step - loss: 1.6159 - accuracy: 0.4278 - val_loss: 1.7546 - val_accuracy: 0.3744\n",
            "Epoch 15/50\n",
            "333/333 [==============================] - 1s 3ms/step - loss: 1.6111 - accuracy: 0.4293 - val_loss: 1.6899 - val_accuracy: 0.3945\n",
            "Epoch 16/50\n",
            "333/333 [==============================] - 2s 5ms/step - loss: 1.6062 - accuracy: 0.4300 - val_loss: 1.6695 - val_accuracy: 0.4044\n",
            "Epoch 17/50\n",
            "333/333 [==============================] - 1s 4ms/step - loss: 1.6083 - accuracy: 0.4299 - val_loss: 1.6642 - val_accuracy: 0.4097\n",
            "Epoch 18/50\n",
            "333/333 [==============================] - 1s 4ms/step - loss: 1.5928 - accuracy: 0.4350 - val_loss: 1.6727 - val_accuracy: 0.4096\n",
            "Epoch 19/50\n",
            "333/333 [==============================] - 1s 4ms/step - loss: 1.5895 - accuracy: 0.4364 - val_loss: 1.6659 - val_accuracy: 0.4053\n",
            "Epoch 20/50\n",
            "333/333 [==============================] - 1s 3ms/step - loss: 1.5797 - accuracy: 0.4403 - val_loss: 1.6668 - val_accuracy: 0.4065\n",
            "Epoch 21/50\n",
            "333/333 [==============================] - 1s 4ms/step - loss: 1.5808 - accuracy: 0.4381 - val_loss: 1.6760 - val_accuracy: 0.4128\n",
            "Epoch 22/50\n",
            "333/333 [==============================] - 1s 3ms/step - loss: 1.5784 - accuracy: 0.4380 - val_loss: 1.6644 - val_accuracy: 0.4015\n",
            "Epoch 23/50\n",
            "333/333 [==============================] - 1s 3ms/step - loss: 1.5771 - accuracy: 0.4383 - val_loss: 1.8293 - val_accuracy: 0.3707\n",
            "Epoch 24/50\n",
            "333/333 [==============================] - 1s 4ms/step - loss: 1.5822 - accuracy: 0.4360 - val_loss: 1.6744 - val_accuracy: 0.4071\n",
            "Epoch 25/50\n",
            "333/333 [==============================] - 1s 4ms/step - loss: 1.5719 - accuracy: 0.4435 - val_loss: 1.6592 - val_accuracy: 0.4111\n",
            "Epoch 26/50\n",
            "333/333 [==============================] - 2s 5ms/step - loss: 1.5660 - accuracy: 0.4445 - val_loss: 1.6955 - val_accuracy: 0.3968\n",
            "Epoch 27/50\n",
            "333/333 [==============================] - 1s 4ms/step - loss: 1.5621 - accuracy: 0.4438 - val_loss: 1.6373 - val_accuracy: 0.4187\n",
            "Epoch 28/50\n",
            "333/333 [==============================] - 1s 3ms/step - loss: 1.5588 - accuracy: 0.4444 - val_loss: 1.6409 - val_accuracy: 0.4116\n",
            "Epoch 29/50\n",
            "333/333 [==============================] - 1s 4ms/step - loss: 1.5648 - accuracy: 0.4441 - val_loss: 1.6835 - val_accuracy: 0.4031\n",
            "Epoch 30/50\n",
            "333/333 [==============================] - 1s 4ms/step - loss: 1.5543 - accuracy: 0.4465 - val_loss: 1.6160 - val_accuracy: 0.4275\n",
            "Epoch 31/50\n",
            "333/333 [==============================] - 1s 4ms/step - loss: 1.5529 - accuracy: 0.4495 - val_loss: 1.6483 - val_accuracy: 0.4128\n",
            "Epoch 32/50\n",
            "333/333 [==============================] - 1s 4ms/step - loss: 1.5546 - accuracy: 0.4462 - val_loss: 1.6430 - val_accuracy: 0.4137\n",
            "Epoch 33/50\n",
            "333/333 [==============================] - 1s 4ms/step - loss: 1.5503 - accuracy: 0.4470 - val_loss: 1.6949 - val_accuracy: 0.3995\n",
            "Epoch 34/50\n",
            "333/333 [==============================] - 1s 4ms/step - loss: 1.5527 - accuracy: 0.4474 - val_loss: 1.7881 - val_accuracy: 0.3769\n",
            "Epoch 35/50\n",
            "333/333 [==============================] - 2s 5ms/step - loss: 1.5596 - accuracy: 0.4460 - val_loss: 1.6355 - val_accuracy: 0.4149\n",
            "Epoch 36/50\n",
            "333/333 [==============================] - 1s 4ms/step - loss: 1.5458 - accuracy: 0.4480 - val_loss: 1.6397 - val_accuracy: 0.4168\n",
            "Epoch 37/50\n",
            "333/333 [==============================] - 1s 3ms/step - loss: 1.5411 - accuracy: 0.4504 - val_loss: 1.6448 - val_accuracy: 0.4089\n",
            "Epoch 38/50\n",
            "333/333 [==============================] - 1s 4ms/step - loss: 1.5400 - accuracy: 0.4499 - val_loss: 1.6089 - val_accuracy: 0.4323\n",
            "Epoch 39/50\n",
            "333/333 [==============================] - 1s 4ms/step - loss: 1.5425 - accuracy: 0.4501 - val_loss: 1.7265 - val_accuracy: 0.3871\n",
            "Epoch 40/50\n",
            "333/333 [==============================] - 1s 4ms/step - loss: 1.5391 - accuracy: 0.4516 - val_loss: 1.6391 - val_accuracy: 0.4205\n",
            "Epoch 41/50\n",
            "333/333 [==============================] - 1s 4ms/step - loss: 1.5337 - accuracy: 0.4547 - val_loss: 1.6100 - val_accuracy: 0.4260\n",
            "Epoch 42/50\n",
            "333/333 [==============================] - 1s 4ms/step - loss: 1.5359 - accuracy: 0.4541 - val_loss: 1.6477 - val_accuracy: 0.4241\n",
            "Epoch 43/50\n",
            "333/333 [==============================] - 1s 4ms/step - loss: 1.5302 - accuracy: 0.4560 - val_loss: 1.6629 - val_accuracy: 0.4121\n",
            "Epoch 44/50\n",
            "333/333 [==============================] - 1s 4ms/step - loss: 1.5306 - accuracy: 0.4534 - val_loss: 1.6246 - val_accuracy: 0.4200\n",
            "Epoch 45/50\n",
            "333/333 [==============================] - 2s 5ms/step - loss: 1.5275 - accuracy: 0.4548 - val_loss: 1.6554 - val_accuracy: 0.4180\n",
            "Epoch 46/50\n",
            "333/333 [==============================] - 1s 4ms/step - loss: 1.5311 - accuracy: 0.4537 - val_loss: 1.6222 - val_accuracy: 0.4283\n",
            "Epoch 47/50\n",
            "333/333 [==============================] - 1s 3ms/step - loss: 1.5258 - accuracy: 0.4566 - val_loss: 1.6750 - val_accuracy: 0.4021\n",
            "Epoch 48/50\n",
            "333/333 [==============================] - 1s 4ms/step - loss: 1.5300 - accuracy: 0.4542 - val_loss: 1.6763 - val_accuracy: 0.4097\n",
            "Epoch 49/50\n",
            "333/333 [==============================] - 1s 4ms/step - loss: 1.5255 - accuracy: 0.4568 - val_loss: 1.6520 - val_accuracy: 0.4097\n",
            "Epoch 50/50\n",
            "333/333 [==============================] - 1s 4ms/step - loss: 1.5246 - accuracy: 0.4601 - val_loss: 1.6364 - val_accuracy: 0.4244\n"
          ]
        },
        {
          "output_type": "execute_result",
          "data": {
            "text/plain": [
              "<keras.src.callbacks.History at 0x7e54087c7d30>"
            ]
          },
          "metadata": {},
          "execution_count": 16
        }
      ]
    },
    {
      "cell_type": "code",
      "metadata": {
        "id": "14Fju4pe0Ln2",
        "outputId": "54021457-1c11-42d7-811c-32a28f7812b2",
        "colab": {
          "base_uri": "https://localhost:8080/"
        }
      },
      "source": [
        "AloneModel = load_model(\"alone.h5\")\n",
        "AloneModel.evaluate(x_test,y_test)"
      ],
      "execution_count": null,
      "outputs": [
        {
          "output_type": "stream",
          "name": "stdout",
          "text": [
            "313/313 [==============================] - 1s 2ms/step - loss: 1.6120 - accuracy: 0.4314\n"
          ]
        },
        {
          "output_type": "execute_result",
          "data": {
            "text/plain": [
              "[1.6119868755340576, 0.43140000104904175]"
            ]
          },
          "metadata": {},
          "execution_count": 17
        }
      ]
    },
    {
      "cell_type": "code",
      "metadata": {
        "id": "P91kVQ-ORtzh"
      },
      "source": [],
      "execution_count": null,
      "outputs": []
    },
    {
      "cell_type": "markdown",
      "metadata": {
        "id": "EW1IbWlkRvQv"
      },
      "source": [
        "# References\n",
        "[Nervanasystem github's\n",
        "](https://nervanasystems.github.io/distiller/knowledge_distillation.html)\n",
        "\n",
        "[Hinton et. al. -\n",
        "Distilling the Knowledge in a Neural Network](https://arxiv.org/abs/1503.02531)\n",
        "\n",
        "[Seyed-Iman Mirzadeh et. al. - Improved Knowledge Distillation via Teacher Assistant:Bridging the Gap Between Student and Teacher](https://arxiv.org/abs/1902.03393)"
      ]
    },
    {
      "cell_type": "code",
      "metadata": {
        "id": "uDQb_wAfRwat",
        "colab": {
          "base_uri": "https://localhost:8080/"
        },
        "outputId": "6a059f40-7b8b-44e2-c5de-4e3342054476"
      },
      "source": [
        "2+2"
      ],
      "execution_count": null,
      "outputs": [
        {
          "output_type": "execute_result",
          "data": {
            "text/plain": [
              "4"
            ]
          },
          "metadata": {},
          "execution_count": 18
        }
      ]
    },
    {
      "cell_type": "code",
      "source": [],
      "metadata": {
        "id": "BHkqTbem3HSl"
      },
      "execution_count": null,
      "outputs": []
    }
  ]
}