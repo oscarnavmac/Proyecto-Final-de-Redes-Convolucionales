{
  "nbformat": 4,
  "nbformat_minor": 0,
  "metadata": {
    "colab": {
      "provenance": [],
      "gpuType": "L4",
      "authorship_tag": "ABX9TyPDB7YodVis03v8RXdfyqaL",
      "include_colab_link": true
    },
    "kernelspec": {
      "name": "python3",
      "display_name": "Python 3"
    },
    "language_info": {
      "name": "python"
    },
    "accelerator": "GPU"
  },
  "cells": [
    {
      "cell_type": "markdown",
      "metadata": {
        "id": "view-in-github",
        "colab_type": "text"
      },
      "source": [
        "<a href=\"https://colab.research.google.com/github/oscarnavmac/Proyecto-Final-de-Redes-Convolucionales/blob/main/Demo.ipynb\" target=\"_parent\"><img src=\"https://colab.research.google.com/assets/colab-badge.svg\" alt=\"Open In Colab\"/></a>"
      ]
    },
    {
      "cell_type": "code",
      "execution_count": 7,
      "metadata": {
        "colab": {
          "base_uri": "https://localhost:8080/"
        },
        "id": "2ib03XZz7Bfd",
        "outputId": "49295060-c74f-40a6-f07d-2abff573917d"
      },
      "outputs": [
        {
          "output_type": "stream",
          "name": "stdout",
          "text": [
            "Cloning into 'Proyecto-Final-de-Redes-Convolucionales'...\n",
            "remote: Enumerating objects: 60, done.\u001b[K\n",
            "remote: Counting objects: 100% (60/60), done.\u001b[K\n",
            "remote: Compressing objects: 100% (51/51), done.\u001b[K\n",
            "remote: Total 60 (delta 20), reused 40 (delta 8), pack-reused 0\u001b[K\n",
            "Receiving objects: 100% (60/60), 880.41 KiB | 2.87 MiB/s, done.\n",
            "Resolving deltas: 100% (20/20), done.\n"
          ]
        }
      ],
      "source": [
        "!git clone https://github.com/oscarnavmac/Proyecto-Final-de-Redes-Convolucionales.git"
      ]
    },
    {
      "cell_type": "code",
      "source": [
        "%cd Proyecto-Final-de-Redes-Convolucionales"
      ],
      "metadata": {
        "colab": {
          "base_uri": "https://localhost:8080/"
        },
        "id": "6vstgQ8k7upz",
        "outputId": "bd0060b7-ac1c-4975-e872-7e336ecfc3e4"
      },
      "execution_count": 8,
      "outputs": [
        {
          "output_type": "stream",
          "name": "stdout",
          "text": [
            "/content/Proyecto-Final-de-Redes-Convolucionales/Proyecto-Final-de-Redes-Convolucionales/Proyecto-Final-de-Redes-Convolucionales\n"
          ]
        }
      ]
    },
    {
      "cell_type": "code",
      "source": [
        "!python3 main.py"
      ],
      "metadata": {
        "colab": {
          "base_uri": "https://localhost:8080/"
        },
        "id": "2WiuPsjA76S1",
        "outputId": "a79b4179-b46a-4ac7-e1ea-42dd3203d675"
      },
      "execution_count": 9,
      "outputs": [
        {
          "output_type": "stream",
          "name": "stdout",
          "text": [
            "cuda\n",
            "Downloading https://www.cs.toronto.edu/~kriz/cifar-10-python.tar.gz to ./data/cifar-10-python.tar.gz\n",
            "100% 170498071/170498071 [00:03<00:00, 43014170.82it/s]\n",
            "Extracting ./data/cifar-10-python.tar.gz to ./data\n",
            "Files already downloaded and verified\n",
            "Epoch 1/10, Loss: 1.4878315585303306\n",
            "Epoch 2/10, Loss: 1.1559115381546319\n",
            "Epoch 3/10, Loss: 1.0198961742655188\n",
            "Epoch 4/10, Loss: 0.9232347940678522\n",
            "Epoch 5/10, Loss: 0.8404906973069894\n",
            "Epoch 6/10, Loss: 0.7591602187783186\n",
            "Epoch 7/10, Loss: 0.6944512794017413\n",
            "Epoch 8/10, Loss: 0.642167410894616\n",
            "Epoch 9/10, Loss: 0.5929433130002866\n",
            "Epoch 10/10, Loss: 0.5494551497296637\n",
            "Test Accuracy: 65.65%\n"
          ]
        }
      ]
    },
    {
      "cell_type": "code",
      "source": [],
      "metadata": {
        "id": "175nIAaN778l"
      },
      "execution_count": null,
      "outputs": []
    }
  ]
}