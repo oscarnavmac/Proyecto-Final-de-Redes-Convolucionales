{
  "nbformat": 4,
  "nbformat_minor": 0,
  "metadata": {
    "colab": {
      "provenance": [],
      "gpuType": "L4",
      "authorship_tag": "ABX9TyPDB7YodVis03v8RXdfyqaL",
      "include_colab_link": true
    },
    "kernelspec": {
      "name": "python3",
      "display_name": "Python 3"
    },
    "language_info": {
      "name": "python"
    },
    "accelerator": "GPU"
  },
  "cells": [
    {
      "cell_type": "markdown",
      "metadata": {
        "id": "view-in-github",
        "colab_type": "text"
      },
      "source": [
        "<a href=\"https://colab.research.google.com/github/oscarnavmac/Proyecto-Final-de-Redes-Convolucionales/blob/main/Demo.ipynb\" target=\"_parent\"><img src=\"https://colab.research.google.com/assets/colab-badge.svg\" alt=\"Open In Colab\"/></a>"
      ]
    },
    {
      "cell_type": "code",
      "execution_count": 1,
      "metadata": {
        "colab": {
          "base_uri": "https://localhost:8080/"
        },
        "id": "2ib03XZz7Bfd",
        "outputId": "a3a76fa3-2eed-430e-9263-271b05b59268"
      },
      "outputs": [
        {
          "output_type": "stream",
          "name": "stdout",
          "text": [
            "Cloning into 'Proyecto-Final-de-Redes-Convolucionales'...\n",
            "remote: Enumerating objects: 121, done.\u001b[K\n",
            "remote: Counting objects: 100% (121/121), done.\u001b[K\n",
            "remote: Compressing objects: 100% (94/94), done.\u001b[K\n",
            "remote: Total 121 (delta 57), reused 80 (delta 26), pack-reused 0\u001b[K\n",
            "Receiving objects: 100% (121/121), 888.56 KiB | 3.54 MiB/s, done.\n",
            "Resolving deltas: 100% (57/57), done.\n"
          ]
        }
      ],
      "source": [
        "!git clone https://github.com/oscarnavmac/Proyecto-Final-de-Redes-Convolucionales.git"
      ]
    },
    {
      "cell_type": "code",
      "source": [
        "%cd Proyecto-Final-de-Redes-Convolucionales"
      ],
      "metadata": {
        "colab": {
          "base_uri": "https://localhost:8080/"
        },
        "id": "6vstgQ8k7upz",
        "outputId": "32654714-bfe9-428c-dd73-a2c31dd2c654"
      },
      "execution_count": 2,
      "outputs": [
        {
          "output_type": "stream",
          "name": "stdout",
          "text": [
            "/content/Proyecto-Final-de-Redes-Convolucionales\n"
          ]
        }
      ]
    },
    {
      "cell_type": "code",
      "source": [
        "!python3 main.py"
      ],
      "metadata": {
        "colab": {
          "base_uri": "https://localhost:8080/"
        },
        "id": "2WiuPsjA76S1",
        "outputId": "0003dfd9-330d-4c17-ccbf-9599d1ff4224"
      },
      "execution_count": 3,
      "outputs": [
        {
          "output_type": "stream",
          "name": "stdout",
          "text": [
            "Currently running on cuda\n",
            "Downloading https://www.cs.toronto.edu/~kriz/cifar-10-python.tar.gz to ./data/cifar-10-python.tar.gz\n",
            "100% 170498071/170498071 [00:03<00:00, 43709479.52it/s]\n",
            "Extracting ./data/cifar-10-python.tar.gz to ./data\n",
            "Files already downloaded and verified\n",
            "/usr/local/lib/python3.10/dist-packages/torch/hub.py:294: UserWarning: You are about to download and run code from an untrusted repository. In a future release, this won't be allowed. To add the repository to your trusted list, change the command to {calling_fn}(..., trust_repo=False) and a command prompt will appear asking for an explicit confirmation of trust, or load(..., trust_repo=True), which will assume that the prompt is to be answered with 'yes'. You can also use load(..., trust_repo='check') which will only prompt for confirmation if the repo is not already trusted. This will eventually be the default behaviour\n",
            "  warnings.warn(\n",
            "Downloading: \"https://github.com/chenyaofo/pytorch-cifar-models/zipball/master\" to /root/.cache/torch/hub/master.zip\n",
            "Downloading: \"https://github.com/chenyaofo/pytorch-cifar-models/releases/download/vgg/cifar10_vgg16_bn-6ee7ea24.pt\" to /root/.cache/torch/hub/checkpoints/cifar10_vgg16_bn-6ee7ea24.pt\n",
            "100% 58.3M/58.3M [00:00<00:00, 77.0MB/s]\n",
            "vgg11 parameters: 15,253,578\n",
            "/usr/lib/python3.10/multiprocessing/popen_fork.py:66: RuntimeWarning: os.fork() was called. os.fork() is incompatible with multithreaded code, and JAX is multithreaded, so this will likely lead to a deadlock.\n",
            "  self.pid = os.fork()\n",
            "Test Accuracy: 93.94%\n",
            "student parameters: 267,738\n",
            "1/10, Loss: 2.524919390983289\n",
            "2/10, Loss: 2.020861184200667\n",
            "3/10, Loss: 1.8008951704825282\n",
            "4/10, Loss: 1.6290598961398424\n",
            "5/10, Loss: 1.5002550950745488\n",
            "6/10, Loss: 1.3869721098324221\n",
            "7/10, Loss: 1.2799069030815378\n",
            "8/10, Loss: 1.1842992804239474\n",
            "9/10, Loss: 1.0960039505568306\n",
            "10/10, Loss: 1.019153342832385\n",
            "Test Accuracy: 70.18%\n"
          ]
        }
      ]
    },
    {
      "cell_type": "code",
      "source": [],
      "metadata": {
        "id": "EbOPRSB1Gho7"
      },
      "execution_count": null,
      "outputs": []
    }
  ]
}