{
  "nbformat": 4,
  "nbformat_minor": 0,
  "metadata": {
    "colab": {
      "provenance": [],
      "gpuType": "L4",
      "authorship_tag": "ABX9TyPDB7YodVis03v8RXdfyqaL",
      "include_colab_link": true
    },
    "kernelspec": {
      "name": "python3",
      "display_name": "Python 3"
    },
    "language_info": {
      "name": "python"
    },
    "accelerator": "GPU"
  },
  "cells": [
    {
      "cell_type": "markdown",
      "metadata": {
        "id": "view-in-github",
        "colab_type": "text"
      },
      "source": [
        "<a href=\"https://colab.research.google.com/github/oscarnavmac/Proyecto-Final-de-Redes-Convolucionales/blob/main/Demo.ipynb\" target=\"_parent\"><img src=\"https://colab.research.google.com/assets/colab-badge.svg\" alt=\"Open In Colab\"/></a>"
      ]
    },
    {
      "cell_type": "code",
      "execution_count": 10,
      "metadata": {
        "colab": {
          "base_uri": "https://localhost:8080/"
        },
        "id": "2ib03XZz7Bfd",
        "outputId": "a4062ebe-29d1-4db2-fbc4-6d55795c3d36"
      },
      "outputs": [
        {
          "output_type": "stream",
          "name": "stdout",
          "text": [
            "Cloning into 'Proyecto-Final-de-Redes-Convolucionales'...\n",
            "remote: Enumerating objects: 86, done.\u001b[K\n",
            "remote: Counting objects: 100% (86/86), done.\u001b[K\n",
            "remote: Compressing objects: 100% (67/67), done.\u001b[K\n",
            "remote: Total 86 (delta 36), reused 59 (delta 18), pack-reused 0\u001b[K\n",
            "Receiving objects: 100% (86/86), 883.95 KiB | 3.52 MiB/s, done.\n",
            "Resolving deltas: 100% (36/36), done.\n"
          ]
        }
      ],
      "source": [
        "!git clone https://github.com/oscarnavmac/Proyecto-Final-de-Redes-Convolucionales.git"
      ]
    },
    {
      "cell_type": "code",
      "source": [
        "%cd Proyecto-Final-de-Redes-Convolucionales"
      ],
      "metadata": {
        "colab": {
          "base_uri": "https://localhost:8080/"
        },
        "id": "6vstgQ8k7upz",
        "outputId": "be884f85-9b98-43d0-d656-37c5b4aa748d"
      },
      "execution_count": 11,
      "outputs": [
        {
          "output_type": "stream",
          "name": "stdout",
          "text": [
            "/content/Proyecto-Final-de-Redes-Convolucionales/Proyecto-Final-de-Redes-Convolucionales/Proyecto-Final-de-Redes-Convolucionales/Proyecto-Final-de-Redes-Convolucionales\n"
          ]
        }
      ]
    },
    {
      "cell_type": "code",
      "source": [
        "!python3 main.py"
      ],
      "metadata": {
        "colab": {
          "base_uri": "https://localhost:8080/"
        },
        "id": "2WiuPsjA76S1",
        "outputId": "321c3dc7-5ab2-4bee-81a5-b2a4b57ab96f"
      },
      "execution_count": 12,
      "outputs": [
        {
          "output_type": "stream",
          "name": "stdout",
          "text": [
            "Currently running on cuda\n",
            "Downloading https://www.cs.toronto.edu/~kriz/cifar-10-python.tar.gz to ./data/cifar-10-python.tar.gz\n",
            "100% 170498071/170498071 [00:04<00:00, 40103053.68it/s]\n",
            "Extracting ./data/cifar-10-python.tar.gz to ./data\n",
            "Files already downloaded and verified\n",
            "/usr/lib/python3.10/multiprocessing/popen_fork.py:66: RuntimeWarning: os.fork() was called. os.fork() is incompatible with multithreaded code, and JAX is multithreaded, so this will likely lead to a deadlock.\n",
            "  self.pid = os.fork()\n",
            "Epoch 1/10, Loss: 1.391913391744999\n",
            "Epoch 2/10, Loss: 0.9393704228693872\n",
            "Epoch 3/10, Loss: 0.7451677867366225\n",
            "Epoch 4/10, Loss: 0.5955142639482113\n",
            "Epoch 5/10, Loss: 0.4703259580504254\n",
            "Epoch 6/10, Loss: 0.3603749110951753\n",
            "Epoch 7/10, Loss: 0.2544738081333887\n",
            "Epoch 8/10, Loss: 0.1955702493867606\n",
            "Epoch 9/10, Loss: 0.1559957445734907\n",
            "Epoch 10/10, Loss: 0.12340425930993484\n",
            "Test Accuracy: 74.49%\n"
          ]
        }
      ]
    },
    {
      "cell_type": "code",
      "source": [],
      "metadata": {
        "id": "175nIAaN778l"
      },
      "execution_count": null,
      "outputs": []
    }
  ]
}