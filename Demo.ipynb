{
  "nbformat": 4,
  "nbformat_minor": 0,
  "metadata": {
    "colab": {
      "provenance": [],
      "gpuType": "L4",
      "authorship_tag": "ABX9TyPDB7YodVis03v8RXdfyqaL",
      "include_colab_link": true
    },
    "kernelspec": {
      "name": "python3",
      "display_name": "Python 3"
    },
    "language_info": {
      "name": "python"
    },
    "accelerator": "GPU"
  },
  "cells": [
    {
      "cell_type": "markdown",
      "metadata": {
        "id": "view-in-github",
        "colab_type": "text"
      },
      "source": [
        "<a href=\"https://colab.research.google.com/github/oscarnavmac/Proyecto-Final-de-Redes-Convolucionales/blob/main/Demo.ipynb\" target=\"_parent\"><img src=\"https://colab.research.google.com/assets/colab-badge.svg\" alt=\"Open In Colab\"/></a>"
      ]
    },
    {
      "cell_type": "code",
      "execution_count": 1,
      "metadata": {
        "colab": {
          "base_uri": "https://localhost:8080/"
        },
        "id": "2ib03XZz7Bfd",
        "outputId": "6d12a32c-8699-4e5f-cd4f-d616ce882a54"
      },
      "outputs": [
        {
          "output_type": "stream",
          "name": "stdout",
          "text": [
            "Cloning into 'Proyecto-Final-de-Redes-Convolucionales'...\n",
            "remote: Enumerating objects: 148, done.\u001b[K\n",
            "remote: Counting objects: 100% (148/148), done.\u001b[K\n",
            "remote: Compressing objects: 100% (114/114), done.\u001b[K\n",
            "remote: Total 148 (delta 75), reused 95 (delta 33), pack-reused 0\u001b[K\n",
            "Receiving objects: 100% (148/148), 892.27 KiB | 3.53 MiB/s, done.\n",
            "Resolving deltas: 100% (75/75), done.\n"
          ]
        }
      ],
      "source": [
        "!git clone https://github.com/oscarnavmac/Proyecto-Final-de-Redes-Convolucionales.git"
      ]
    },
    {
      "cell_type": "code",
      "source": [
        "%cd Proyecto-Final-de-Redes-Convolucionales"
      ],
      "metadata": {
        "colab": {
          "base_uri": "https://localhost:8080/"
        },
        "id": "6vstgQ8k7upz",
        "outputId": "62f6323f-2f90-4fab-a348-3a865fec3601"
      },
      "execution_count": 2,
      "outputs": [
        {
          "output_type": "stream",
          "name": "stdout",
          "text": [
            "/content/Proyecto-Final-de-Redes-Convolucionales\n"
          ]
        }
      ]
    },
    {
      "cell_type": "code",
      "source": [
        "!python3 main.py"
      ],
      "metadata": {
        "colab": {
          "base_uri": "https://localhost:8080/"
        },
        "id": "2WiuPsjA76S1",
        "outputId": "81c257d8-7712-40fb-d258-7cff4c694097"
      },
      "execution_count": 3,
      "outputs": [
        {
          "output_type": "stream",
          "name": "stdout",
          "text": [
            "Currently running on cuda\n",
            "Downloading https://www.cs.toronto.edu/~kriz/cifar-10-python.tar.gz to ./data/cifar-10-python.tar.gz\n",
            "100% 170498071/170498071 [00:04<00:00, 41187733.22it/s]\n",
            "Extracting ./data/cifar-10-python.tar.gz to ./data\n",
            "Files already downloaded and verified\n",
            "/usr/local/lib/python3.10/dist-packages/torch/hub.py:294: UserWarning: You are about to download and run code from an untrusted repository. In a future release, this won't be allowed. To add the repository to your trusted list, change the command to {calling_fn}(..., trust_repo=False) and a command prompt will appear asking for an explicit confirmation of trust, or load(..., trust_repo=True), which will assume that the prompt is to be answered with 'yes'. You can also use load(..., trust_repo='check') which will only prompt for confirmation if the repo is not already trusted. This will eventually be the default behaviour\n",
            "  warnings.warn(\n",
            "Downloading: \"https://github.com/chenyaofo/pytorch-cifar-models/zipball/master\" to /root/.cache/torch/hub/master.zip\n",
            "Downloading: \"https://github.com/chenyaofo/pytorch-cifar-models/releases/download/vgg/cifar10_vgg16_bn-6ee7ea24.pt\" to /root/.cache/torch/hub/checkpoints/cifar10_vgg16_bn-6ee7ea24.pt\n",
            "100% 58.3M/58.3M [00:00<00:00, 287MB/s]\n",
            "vgg11 parameters: 15,253,578\n",
            "/usr/lib/python3.10/multiprocessing/popen_fork.py:66: RuntimeWarning: os.fork() was called. os.fork() is incompatible with multithreaded code, and JAX is multithreaded, so this will likely lead to a deadlock.\n",
            "  self.pid = os.fork()\n",
            "Test Accuracy: 93.94%\n",
            "student parameters: 11,418\n",
            "Epoch 1/10, Loss: 1.685999322730257\n",
            "Epoch 2/10, Loss: 1.3775095198770313\n",
            "Epoch 3/10, Loss: 1.2597293524486024\n",
            "Epoch 4/10, Loss: 1.1693231135682987\n",
            "Epoch 5/10, Loss: 1.1004752309426018\n",
            "Epoch 6/10, Loss: 1.0394911938311193\n",
            "Epoch 7/10, Loss: 0.9995222329483617\n",
            "Epoch 8/10, Loss: 0.9720338203413103\n",
            "Epoch 9/10, Loss: 0.9498414115222824\n",
            "Epoch 10/10, Loss: 0.9271225101502655\n",
            "Test Accuracy: 66.68%\n",
            "student parameters: 11,418\n",
            "1/10, Loss: 2.728245318088385\n",
            "2/10, Loss: 2.2764040856715053\n",
            "3/10, Loss: 2.1126549027460007\n",
            "4/10, Loss: 1.9770449418241105\n",
            "5/10, Loss: 1.8630830192809824\n",
            "6/10, Loss: 1.7679248298220622\n",
            "7/10, Loss: 1.7015317355275459\n",
            "8/10, Loss: 1.6545434232867893\n",
            "9/10, Loss: 1.6130464159314284\n",
            "10/10, Loss: 1.5747849456489544\n",
            "Test Accuracy: 67.33%\n"
          ]
        }
      ]
    },
    {
      "cell_type": "code",
      "source": [],
      "metadata": {
        "id": "EbOPRSB1Gho7"
      },
      "execution_count": null,
      "outputs": []
    }
  ]
}